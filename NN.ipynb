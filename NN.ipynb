{
 "cells": [
  {
   "cell_type": "code",
   "execution_count": 382,
   "metadata": {
    "collapsed": true
   },
   "outputs": [],
   "source": [
    "import torch\n",
    "from torch.autograd import Variable\n",
    "import torch.nn as nn\n",
    "import torch.nn.functional as F\n",
    "import torch.optim as optim\n",
    "from torch.utils.data import DataLoader , TensorDataset\n",
    "\n",
    "from sklearn.model_selection import train_test_split\n",
    "from sklearn.model_selection import StratifiedKFold\n",
    "from sklearn import svm\n",
    "from sklearn.ensemble import GradientBoostingClassifier\n",
    "from sklearn.ensemble import RandomForestClassifier\n",
    "\n",
    "import pandas as pd\n",
    "import numpy as np\n",
    "import json"
   ]
  },
  {
   "cell_type": "code",
   "execution_count": 383,
   "metadata": {},
   "outputs": [
    {
     "name": "stdout",
     "output_type": "stream",
     "text": [
      "(891, 9)\n"
     ]
    },
    {
     "name": "stderr",
     "output_type": "stream",
     "text": [
      "/Users/GenseiYoshimura/anaconda/lib/python3.6/site-packages/ipykernel_launcher.py:2: SettingWithCopyWarning: \n",
      "A value is trying to be set on a copy of a slice from a DataFrame\n",
      "\n",
      "See the caveats in the documentation: http://pandas.pydata.org/pandas-docs/stable/indexing.html#indexing-view-versus-copy\n",
      "  \n",
      "/Users/GenseiYoshimura/anaconda/lib/python3.6/site-packages/ipykernel_launcher.py:3: SettingWithCopyWarning: \n",
      "A value is trying to be set on a copy of a slice from a DataFrame\n",
      "\n",
      "See the caveats in the documentation: http://pandas.pydata.org/pandas-docs/stable/indexing.html#indexing-view-versus-copy\n",
      "  This is separate from the ipykernel package so we can avoid doing imports until\n"
     ]
    },
    {
     "data": {
      "text/html": [
       "<div>\n",
       "<style>\n",
       "    .dataframe thead tr:only-child th {\n",
       "        text-align: right;\n",
       "    }\n",
       "\n",
       "    .dataframe thead th {\n",
       "        text-align: left;\n",
       "    }\n",
       "\n",
       "    .dataframe tbody tr th {\n",
       "        vertical-align: top;\n",
       "    }\n",
       "</style>\n",
       "<table border=\"1\" class=\"dataframe\">\n",
       "  <thead>\n",
       "    <tr style=\"text-align: right;\">\n",
       "      <th></th>\n",
       "      <th>PassengerId</th>\n",
       "      <th>Survived</th>\n",
       "      <th>Pclass</th>\n",
       "      <th>Sex</th>\n",
       "      <th>Age</th>\n",
       "      <th>SibSp</th>\n",
       "      <th>Parch</th>\n",
       "      <th>Fare</th>\n",
       "      <th>Embarked</th>\n",
       "    </tr>\n",
       "  </thead>\n",
       "  <tbody>\n",
       "    <tr>\n",
       "      <th>0</th>\n",
       "      <td>1</td>\n",
       "      <td>0</td>\n",
       "      <td>3</td>\n",
       "      <td>0</td>\n",
       "      <td>22.0</td>\n",
       "      <td>1</td>\n",
       "      <td>0</td>\n",
       "      <td>7.2500</td>\n",
       "      <td>S</td>\n",
       "    </tr>\n",
       "    <tr>\n",
       "      <th>1</th>\n",
       "      <td>2</td>\n",
       "      <td>1</td>\n",
       "      <td>1</td>\n",
       "      <td>1</td>\n",
       "      <td>38.0</td>\n",
       "      <td>1</td>\n",
       "      <td>0</td>\n",
       "      <td>71.2833</td>\n",
       "      <td>C</td>\n",
       "    </tr>\n",
       "    <tr>\n",
       "      <th>2</th>\n",
       "      <td>3</td>\n",
       "      <td>1</td>\n",
       "      <td>3</td>\n",
       "      <td>1</td>\n",
       "      <td>26.0</td>\n",
       "      <td>0</td>\n",
       "      <td>0</td>\n",
       "      <td>7.9250</td>\n",
       "      <td>S</td>\n",
       "    </tr>\n",
       "    <tr>\n",
       "      <th>3</th>\n",
       "      <td>4</td>\n",
       "      <td>1</td>\n",
       "      <td>1</td>\n",
       "      <td>1</td>\n",
       "      <td>35.0</td>\n",
       "      <td>1</td>\n",
       "      <td>0</td>\n",
       "      <td>53.1000</td>\n",
       "      <td>S</td>\n",
       "    </tr>\n",
       "    <tr>\n",
       "      <th>4</th>\n",
       "      <td>5</td>\n",
       "      <td>0</td>\n",
       "      <td>3</td>\n",
       "      <td>0</td>\n",
       "      <td>35.0</td>\n",
       "      <td>0</td>\n",
       "      <td>0</td>\n",
       "      <td>8.0500</td>\n",
       "      <td>S</td>\n",
       "    </tr>\n",
       "  </tbody>\n",
       "</table>\n",
       "</div>"
      ],
      "text/plain": [
       "   PassengerId  Survived  Pclass Sex   Age  SibSp  Parch     Fare Embarked\n",
       "0            1         0       3   0  22.0      1      0   7.2500        S\n",
       "1            2         1       1   1  38.0      1      0  71.2833        C\n",
       "2            3         1       3   1  26.0      0      0   7.9250        S\n",
       "3            4         1       1   1  35.0      1      0  53.1000        S\n",
       "4            5         0       3   0  35.0      0      0   8.0500        S"
      ]
     },
     "execution_count": 383,
     "metadata": {},
     "output_type": "execute_result"
    }
   ],
   "source": [
    "data = pd.read_csv(\"./data/train.csv\").drop('Ticket',axis=1).drop('Cabin',axis=1).drop('Name',axis=1)\n",
    "data[\"Sex\"][data[\"Sex\"] == \"male\"] = 0\n",
    "data[\"Sex\"][data[\"Sex\"] == \"female\"] = 1\n",
    "print(data.shape)\n",
    "data.head()"
   ]
  },
  {
   "cell_type": "code",
   "execution_count": 384,
   "metadata": {
    "scrolled": false
   },
   "outputs": [
    {
     "data": {
      "text/html": [
       "<div>\n",
       "<style>\n",
       "    .dataframe thead tr:only-child th {\n",
       "        text-align: right;\n",
       "    }\n",
       "\n",
       "    .dataframe thead th {\n",
       "        text-align: left;\n",
       "    }\n",
       "\n",
       "    .dataframe tbody tr th {\n",
       "        vertical-align: top;\n",
       "    }\n",
       "</style>\n",
       "<table border=\"1\" class=\"dataframe\">\n",
       "  <thead>\n",
       "    <tr style=\"text-align: right;\">\n",
       "      <th></th>\n",
       "      <th>PassengerId</th>\n",
       "      <th>Survived</th>\n",
       "      <th>Pclass</th>\n",
       "      <th>Age</th>\n",
       "      <th>SibSp</th>\n",
       "      <th>Parch</th>\n",
       "      <th>Fare</th>\n",
       "    </tr>\n",
       "  </thead>\n",
       "  <tbody>\n",
       "    <tr>\n",
       "      <th>count</th>\n",
       "      <td>891.000000</td>\n",
       "      <td>891.000000</td>\n",
       "      <td>891.000000</td>\n",
       "      <td>891.000000</td>\n",
       "      <td>891.000000</td>\n",
       "      <td>891.000000</td>\n",
       "      <td>891.000000</td>\n",
       "    </tr>\n",
       "    <tr>\n",
       "      <th>mean</th>\n",
       "      <td>446.000000</td>\n",
       "      <td>0.383838</td>\n",
       "      <td>2.308642</td>\n",
       "      <td>29.361582</td>\n",
       "      <td>0.523008</td>\n",
       "      <td>0.381594</td>\n",
       "      <td>32.204208</td>\n",
       "    </tr>\n",
       "    <tr>\n",
       "      <th>std</th>\n",
       "      <td>257.353842</td>\n",
       "      <td>0.486592</td>\n",
       "      <td>0.836071</td>\n",
       "      <td>13.019697</td>\n",
       "      <td>1.102743</td>\n",
       "      <td>0.806057</td>\n",
       "      <td>49.693429</td>\n",
       "    </tr>\n",
       "    <tr>\n",
       "      <th>min</th>\n",
       "      <td>1.000000</td>\n",
       "      <td>0.000000</td>\n",
       "      <td>1.000000</td>\n",
       "      <td>0.420000</td>\n",
       "      <td>0.000000</td>\n",
       "      <td>0.000000</td>\n",
       "      <td>0.000000</td>\n",
       "    </tr>\n",
       "    <tr>\n",
       "      <th>25%</th>\n",
       "      <td>223.500000</td>\n",
       "      <td>0.000000</td>\n",
       "      <td>2.000000</td>\n",
       "      <td>22.000000</td>\n",
       "      <td>0.000000</td>\n",
       "      <td>0.000000</td>\n",
       "      <td>7.910400</td>\n",
       "    </tr>\n",
       "    <tr>\n",
       "      <th>50%</th>\n",
       "      <td>446.000000</td>\n",
       "      <td>0.000000</td>\n",
       "      <td>3.000000</td>\n",
       "      <td>28.000000</td>\n",
       "      <td>0.000000</td>\n",
       "      <td>0.000000</td>\n",
       "      <td>14.454200</td>\n",
       "    </tr>\n",
       "    <tr>\n",
       "      <th>75%</th>\n",
       "      <td>668.500000</td>\n",
       "      <td>1.000000</td>\n",
       "      <td>3.000000</td>\n",
       "      <td>35.000000</td>\n",
       "      <td>1.000000</td>\n",
       "      <td>0.000000</td>\n",
       "      <td>31.000000</td>\n",
       "    </tr>\n",
       "    <tr>\n",
       "      <th>max</th>\n",
       "      <td>891.000000</td>\n",
       "      <td>1.000000</td>\n",
       "      <td>3.000000</td>\n",
       "      <td>80.000000</td>\n",
       "      <td>8.000000</td>\n",
       "      <td>6.000000</td>\n",
       "      <td>512.329200</td>\n",
       "    </tr>\n",
       "  </tbody>\n",
       "</table>\n",
       "</div>"
      ],
      "text/plain": [
       "       PassengerId    Survived      Pclass         Age       SibSp  \\\n",
       "count   891.000000  891.000000  891.000000  891.000000  891.000000   \n",
       "mean    446.000000    0.383838    2.308642   29.361582    0.523008   \n",
       "std     257.353842    0.486592    0.836071   13.019697    1.102743   \n",
       "min       1.000000    0.000000    1.000000    0.420000    0.000000   \n",
       "25%     223.500000    0.000000    2.000000   22.000000    0.000000   \n",
       "50%     446.000000    0.000000    3.000000   28.000000    0.000000   \n",
       "75%     668.500000    1.000000    3.000000   35.000000    1.000000   \n",
       "max     891.000000    1.000000    3.000000   80.000000    8.000000   \n",
       "\n",
       "            Parch        Fare  \n",
       "count  891.000000  891.000000  \n",
       "mean     0.381594   32.204208  \n",
       "std      0.806057   49.693429  \n",
       "min      0.000000    0.000000  \n",
       "25%      0.000000    7.910400  \n",
       "50%      0.000000   14.454200  \n",
       "75%      0.000000   31.000000  \n",
       "max      6.000000  512.329200  "
      ]
     },
     "execution_count": 384,
     "metadata": {},
     "output_type": "execute_result"
    }
   ],
   "source": [
    "data[\"Age\"] = data[\"Age\"].fillna(data[\"Age\"].median())\n",
    "data[\"Embarked\"] = data[\"Embarked\"].fillna(\"S\")\n",
    "\n",
    "\n",
    "data.describe()"
   ]
  },
  {
   "cell_type": "code",
   "execution_count": 385,
   "metadata": {},
   "outputs": [
    {
     "data": {
      "text/html": [
       "<div>\n",
       "<style>\n",
       "    .dataframe thead tr:only-child th {\n",
       "        text-align: right;\n",
       "    }\n",
       "\n",
       "    .dataframe thead th {\n",
       "        text-align: left;\n",
       "    }\n",
       "\n",
       "    .dataframe tbody tr th {\n",
       "        vertical-align: top;\n",
       "    }\n",
       "</style>\n",
       "<table border=\"1\" class=\"dataframe\">\n",
       "  <thead>\n",
       "    <tr style=\"text-align: right;\">\n",
       "      <th></th>\n",
       "      <th>PassengerId</th>\n",
       "      <th>Survived</th>\n",
       "      <th>Pclass</th>\n",
       "      <th>Sex</th>\n",
       "      <th>Age</th>\n",
       "      <th>SibSp</th>\n",
       "      <th>Parch</th>\n",
       "      <th>Fare</th>\n",
       "      <th>Embarked_C</th>\n",
       "      <th>Embarked_Q</th>\n",
       "      <th>Embarked_S</th>\n",
       "    </tr>\n",
       "  </thead>\n",
       "  <tbody>\n",
       "    <tr>\n",
       "      <th>0</th>\n",
       "      <td>1.0</td>\n",
       "      <td>0.0</td>\n",
       "      <td>3.0</td>\n",
       "      <td>0.0</td>\n",
       "      <td>22.0</td>\n",
       "      <td>1.0</td>\n",
       "      <td>0.0</td>\n",
       "      <td>7.2500</td>\n",
       "      <td>0.0</td>\n",
       "      <td>0.0</td>\n",
       "      <td>1.0</td>\n",
       "    </tr>\n",
       "    <tr>\n",
       "      <th>1</th>\n",
       "      <td>2.0</td>\n",
       "      <td>1.0</td>\n",
       "      <td>1.0</td>\n",
       "      <td>1.0</td>\n",
       "      <td>38.0</td>\n",
       "      <td>1.0</td>\n",
       "      <td>0.0</td>\n",
       "      <td>71.2833</td>\n",
       "      <td>1.0</td>\n",
       "      <td>0.0</td>\n",
       "      <td>0.0</td>\n",
       "    </tr>\n",
       "    <tr>\n",
       "      <th>2</th>\n",
       "      <td>3.0</td>\n",
       "      <td>1.0</td>\n",
       "      <td>3.0</td>\n",
       "      <td>1.0</td>\n",
       "      <td>26.0</td>\n",
       "      <td>0.0</td>\n",
       "      <td>0.0</td>\n",
       "      <td>7.9250</td>\n",
       "      <td>0.0</td>\n",
       "      <td>0.0</td>\n",
       "      <td>1.0</td>\n",
       "    </tr>\n",
       "    <tr>\n",
       "      <th>3</th>\n",
       "      <td>4.0</td>\n",
       "      <td>1.0</td>\n",
       "      <td>1.0</td>\n",
       "      <td>1.0</td>\n",
       "      <td>35.0</td>\n",
       "      <td>1.0</td>\n",
       "      <td>0.0</td>\n",
       "      <td>53.1000</td>\n",
       "      <td>0.0</td>\n",
       "      <td>0.0</td>\n",
       "      <td>1.0</td>\n",
       "    </tr>\n",
       "    <tr>\n",
       "      <th>4</th>\n",
       "      <td>5.0</td>\n",
       "      <td>0.0</td>\n",
       "      <td>3.0</td>\n",
       "      <td>0.0</td>\n",
       "      <td>35.0</td>\n",
       "      <td>0.0</td>\n",
       "      <td>0.0</td>\n",
       "      <td>8.0500</td>\n",
       "      <td>0.0</td>\n",
       "      <td>0.0</td>\n",
       "      <td>1.0</td>\n",
       "    </tr>\n",
       "  </tbody>\n",
       "</table>\n",
       "</div>"
      ],
      "text/plain": [
       "   PassengerId  Survived  Pclass  Sex   Age  SibSp  Parch     Fare  \\\n",
       "0          1.0       0.0     3.0  0.0  22.0    1.0    0.0   7.2500   \n",
       "1          2.0       1.0     1.0  1.0  38.0    1.0    0.0  71.2833   \n",
       "2          3.0       1.0     3.0  1.0  26.0    0.0    0.0   7.9250   \n",
       "3          4.0       1.0     1.0  1.0  35.0    1.0    0.0  53.1000   \n",
       "4          5.0       0.0     3.0  0.0  35.0    0.0    0.0   8.0500   \n",
       "\n",
       "   Embarked_C  Embarked_Q  Embarked_S  \n",
       "0         0.0         0.0         1.0  \n",
       "1         1.0         0.0         0.0  \n",
       "2         0.0         0.0         1.0  \n",
       "3         0.0         0.0         1.0  \n",
       "4         0.0         0.0         1.0  "
      ]
     },
     "execution_count": 385,
     "metadata": {},
     "output_type": "execute_result"
    }
   ],
   "source": [
    "dummy_columns = ['Embarked']\n",
    "\n",
    "dummy = pd.get_dummies(data[dummy_columns])\n",
    "data = pd.concat([data, dummy], axis=1).drop('Embarked',axis=1).astype(float)\n",
    "\n",
    "data.head()"
   ]
  },
  {
   "cell_type": "code",
   "execution_count": 386,
   "metadata": {},
   "outputs": [
    {
     "data": {
      "text/plain": [
       "(891, 11)"
      ]
     },
     "execution_count": 386,
     "metadata": {},
     "output_type": "execute_result"
    }
   ],
   "source": [
    "data.shape"
   ]
  },
  {
   "cell_type": "code",
   "execution_count": null,
   "metadata": {
    "collapsed": true
   },
   "outputs": [],
   "source": []
  },
  {
   "cell_type": "code",
   "execution_count": 387,
   "metadata": {},
   "outputs": [
    {
     "data": {
      "text/plain": [
       "array([[  3.,   0.,  22., ...,   0.,   0.,   1.],\n",
       "       [  1.,   1.,  38., ...,   1.,   0.,   0.],\n",
       "       [  3.,   1.,  26., ...,   0.,   0.,   1.],\n",
       "       ..., \n",
       "       [  3.,   1.,  28., ...,   0.,   0.,   1.],\n",
       "       [  1.,   0.,  26., ...,   1.,   0.,   0.],\n",
       "       [  3.,   0.,  32., ...,   0.,   1.,   0.]])"
      ]
     },
     "execution_count": 387,
     "metadata": {},
     "output_type": "execute_result"
    }
   ],
   "source": [
    "data_feature = data.loc[:, 'Pclass':'Embarked_S'].values\n",
    "data_target = data.loc[:, 'Survived'].values\n",
    "\n",
    "\n",
    "data_feature"
   ]
  },
  {
   "cell_type": "code",
   "execution_count": 388,
   "metadata": {
    "collapsed": true
   },
   "outputs": [],
   "source": [
    "data_train_feature = data_feature[:700]\n",
    "data_train_target = data_target[:700]\n",
    "\n",
    "data_test_feature = data_feature[700:]\n",
    "data_test_target = data_target[700:]"
   ]
  },
  {
   "cell_type": "code",
   "execution_count": null,
   "metadata": {
    "collapsed": true
   },
   "outputs": [],
   "source": [
    "\n"
   ]
  },
  {
   "cell_type": "code",
   "execution_count": null,
   "metadata": {
    "collapsed": true
   },
   "outputs": [],
   "source": []
  },
  {
   "cell_type": "code",
   "execution_count": null,
   "metadata": {
    "collapsed": true
   },
   "outputs": [],
   "source": []
  },
  {
   "cell_type": "code",
   "execution_count": null,
   "metadata": {
    "collapsed": true
   },
   "outputs": [],
   "source": []
  },
  {
   "cell_type": "code",
   "execution_count": null,
   "metadata": {
    "collapsed": true
   },
   "outputs": [],
   "source": []
  },
  {
   "cell_type": "code",
   "execution_count": 389,
   "metadata": {
    "collapsed": true
   },
   "outputs": [],
   "source": [
    "INPUT_COLUMNS = len(data_feature[0])\n",
    "LAYER = 20\n",
    "OUTPUT_SIZE=2"
   ]
  },
  {
   "cell_type": "code",
   "execution_count": null,
   "metadata": {
    "collapsed": true
   },
   "outputs": [],
   "source": []
  },
  {
   "cell_type": "code",
   "execution_count": 390,
   "metadata": {},
   "outputs": [],
   "source": [
    "class Net(nn.Module):\n",
    "    def __init__(self):\n",
    "        super(Net, self).__init__()\n",
    "        self.fc1 = nn.Linear(INPUT_COLUMNS,INPUT_COLUMNS)\n",
    "        self.fc2 = nn.Linear(INPUT_COLUMNS,int(LAYER/2))\n",
    "        self.fc3 = nn.Linear(int(LAYER/2),LAYER)\n",
    "        self.fc4 = nn.Linear(LAYER,OUTPUT_SIZE)\n",
    "        #self.outact = nn.Sigmoid()\n",
    "        self.outact = nn.Softmax()\n",
    "        \n",
    "    def forward(self, x):\n",
    "        x = F.relu(self.fc1(x))\n",
    "        x = F.relu(self.fc2(x))\n",
    "        x = F.relu(self.fc3(x))\n",
    "        x = self.fc4(x)\n",
    "        return self.outact(x)"
   ]
  },
  {
   "cell_type": "code",
   "execution_count": null,
   "metadata": {
    "collapsed": true
   },
   "outputs": [],
   "source": []
  },
  {
   "cell_type": "code",
   "execution_count": 391,
   "metadata": {
    "collapsed": true
   },
   "outputs": [],
   "source": [
    "def TrainingNN(model,train_loader):\n",
    "\n",
    "    #criterion = nn.BCELoss()\n",
    "    criterion = nn.CrossEntropyLoss()\n",
    "    optimizer = optim.Adam(model.parameters(),lr=0.01)\n",
    "\n",
    "    for epoch in range(300):\n",
    "        total_loss = 0\n",
    "    \n",
    "        for train_x, train_y in train_loader:\n",
    "            train_x, train_y = Variable(train_x), Variable(train_y)\n",
    "            optimizer.zero_grad()\n",
    "            output = model(train_x)\n",
    "            loss = criterion(output, train_y)\n",
    "            loss.backward()\n",
    "            optimizer.step()\n",
    "            total_loss += loss.data[0]\n",
    "    \n",
    "        if (epoch+1) % 50 == 0:\n",
    "            print(epoch+1, total_loss)"
   ]
  },
  {
   "cell_type": "code",
   "execution_count": null,
   "metadata": {
    "collapsed": true
   },
   "outputs": [],
   "source": []
  },
  {
   "cell_type": "code",
   "execution_count": null,
   "metadata": {
    "collapsed": true
   },
   "outputs": [],
   "source": []
  },
  {
   "cell_type": "code",
   "execution_count": 392,
   "metadata": {},
   "outputs": [
    {
     "name": "stdout",
     "output_type": "stream",
     "text": [
      "Test set score: 0.7982062780269058\n"
     ]
    }
   ],
   "source": [
    "#ロジスティック回帰\n",
    "\n",
    "from sklearn.linear_model import LogisticRegression\n",
    "X_train, X_test, y_train, y_test = train_test_split(data_feature, data_target, random_state=0)\n",
    "logreg = LogisticRegression().fit(X_train, y_train)\n",
    "\n",
    "score = logreg.score(X_test, y_test)\n",
    "print('Test set score: {}'.format(score))"
   ]
  },
  {
   "cell_type": "code",
   "execution_count": 393,
   "metadata": {},
   "outputs": [],
   "source": [
    "def get_oof(clf, x_train, y_train, x_test):\n",
    "    oof_train = np.zeros((data_train_target.shape[0],))\n",
    "    oof_test = np.zeros((data_test_target.shape[0],))\n",
    "    oof_test_skf = np.empty((3, data_test_target.shape[0]))\n",
    "\n",
    "    for i, (train_index, test_index) in enumerate(StratifiedKFold(n_splits=3).split(data_train_feature, data_train_target)): # NFOLDS回まわる\n",
    "        x_tr = x_train[train_index]\n",
    "        y_tr = y_train[train_index]\n",
    "        x_te = x_train[test_index]\n",
    "\n",
    "        clf.fit(x_tr, y_tr)\n",
    "\n",
    "        #oof_train[test_index] = clf.predict(x_te)\n",
    "        #oof_test_skf[i, :] = clf.predict(x_test)\n",
    "        oof_train[test_index] = clf.predict_proba(x_te)[:,1]\n",
    "        oof_test_skf[i, :] = clf.predict_proba(x_test)[:,1]\n",
    "\n",
    "    oof_test[:] = oof_test_skf.mean(axis=0)\n",
    "    return oof_train.reshape(-1, 1), oof_test.reshape(-1, 1)\n"
   ]
  },
  {
   "cell_type": "code",
   "execution_count": 394,
   "metadata": {
    "scrolled": true
   },
   "outputs": [
    {
     "data": {
      "text/plain": [
       "array([ 0.10276096,  0.8333127 ,  0.65042907,  0.82575704,  0.09519348,\n",
       "        0.21246011,  0.21329924,  0.10904125,  0.67427384,  0.82986627,\n",
       "        0.74946709,  0.74600313,  0.14851213,  0.08660346,  0.73597886,\n",
       "        0.60073189,  0.15051581,  0.22140399,  0.53039173,  0.66128305,\n",
       "        0.18747255,  0.18851326,  0.84510907,  0.38632127,  0.5663393 ,\n",
       "        0.56163519,  0.13003129,  0.35206084,  0.77874057,  0.1175091 ,\n",
       "        0.31727062,  0.89108401,  0.77869453,  0.07288125,  0.35413728,\n",
       "        0.22235069,  0.13003227,  0.14430091,  0.55187865,  0.68945434,\n",
       "        0.45036256,  0.73319486,  0.13018828,  0.89214966,  0.82658808,\n",
       "        0.11754217,  0.16149534,  0.77869453,  0.07083826,  0.6363127 ,\n",
       "        0.07029762,  0.14423709,  0.77727513,  0.72188543,  0.18677113,\n",
       "        0.38632127,  0.82388914,  0.12813802,  0.8698866 ,  0.04803055,\n",
       "        0.15466428,  0.86552076,  0.21618592,  0.11036694,  0.41048747,\n",
       "        0.10258909,  0.78131175,  0.1528533 ,  0.41380893,  0.06596813,\n",
       "        0.19821782,  0.35766952,  0.28976953,  0.1024881 ,  0.11399846,\n",
       "        0.12834824,  0.1175091 ,  0.11754217,  0.45633988,  0.62140988,\n",
       "        0.14042639,  0.11439487,  0.77870789,  0.39202328,  0.84260237,\n",
       "        0.34226474,  0.1534165 ,  0.11754217,  0.86115411,  0.13226071,\n",
       "        0.11409146,  0.14846094,  0.20296823,  0.10522778,  0.04469156,\n",
       "        0.11754217,  0.14225472,  0.48677761,  0.76808639,  0.14376522,\n",
       "        0.63493949,  0.1175091 ,  0.48159893,  0.10127282,  0.04641715,\n",
       "        0.1175091 ,  0.68758524,  0.1174832 ,  0.08680963,  0.71918896,\n",
       "        0.25559869,  0.68726478,  0.14018944,  0.6166861 ,  0.74167025,\n",
       "        0.14426899,  0.06043497,  0.16435088,  0.57302787,  0.55120324,\n",
       "        0.16803837,  0.11754217,  0.16680274,  0.76143241,  0.23402566,\n",
       "        0.15384839,  0.21221515,  0.1320453 ,  0.60243575,  0.06971817,\n",
       "        0.1122669 ,  0.14825083,  0.39539002,  0.72188543,  0.23932112,\n",
       "        0.27531161,  0.92586577,  0.25326988,  0.16671243,  0.46986091,\n",
       "        0.6940923 ,  0.68034582,  0.58738535,  0.26690204,  0.28422271,\n",
       "        0.23329767,  0.12102704,  0.66354633,  0.20047189,  0.15067779,\n",
       "        0.11572291,  0.88307298,  0.05008516,  0.09194618,  0.11738407,\n",
       "        0.26882786,  0.84056436,  0.11072935,  0.1176736 ,  0.01027834,\n",
       "        0.07787334,  0.71371373,  0.1246533 ,  0.16192778,  0.08471598,\n",
       "        0.2286217 ,  0.90150672,  0.48446357,  0.38163796,  0.1283378 ,\n",
       "        0.17093457,  0.14209957,  0.76591006,  0.14426899,  0.21426902,\n",
       "        0.12303368,  0.04890775,  0.81281597,  0.21000387,  0.09094463,\n",
       "        0.11944615,  0.24299546,  0.06914942,  0.28290714,  0.82130114,\n",
       "        0.39345346,  0.7155625 ,  0.25841956,  0.12082111,  0.0923035 ,\n",
       "        0.76447971,  0.27803923,  0.62366415,  0.33786521,  0.8413835 ,\n",
       "        0.80882987,  0.21221515,  0.08165173,  0.77869453,  0.80953532,\n",
       "        0.11785353,  0.01027834,  0.09785185,  0.07653239,  0.15723856,\n",
       "        0.81784546,  0.07683643,  0.1407138 ,  0.84056899,  0.31874123,\n",
       "        0.13202357,  0.74891667,  0.13999016,  0.21000387,  0.15933698,\n",
       "        0.8734725 ,  0.64272849,  0.1138615 ,  0.89783411,  0.20914752,\n",
       "        0.16637755,  0.22726774,  0.05781245,  0.1175091 ,  0.2614116 ,\n",
       "        0.14051378,  0.27700271,  0.14618737,  0.28485415,  0.40179876,\n",
       "        0.83461028,  0.114034  ,  0.09102769,  0.52614311,  0.24455344,\n",
       "        0.63477373,  0.10703829,  0.89541635,  0.27700271,  0.1934886 ,\n",
       "        0.58234827,  0.7155625 ,  0.2147762 ,  0.13995904,  0.12259516,\n",
       "        0.29163088,  0.65798218,  0.82974401,  0.26590147,  0.07882999,\n",
       "        0.11737069,  0.55980948,  0.16422952,  0.08179446,  0.56821249,\n",
       "        0.68689055,  0.91004619,  0.89519665,  0.95138289,  0.66028181,\n",
       "        0.21221515,  0.0833534 ,  0.18770698,  0.28077854,  0.77869453,\n",
       "        0.17766208,  0.05287897,  0.09389914,  0.80324505,  0.88875236,\n",
       "        0.38411756,  0.12658888,  0.722     ,  0.3556504 ,  0.77869453,\n",
       "        0.66008417,  0.49506896,  0.21680472,  0.1302151 ,  0.51460368,\n",
       "        0.07185736,  0.11750018,  0.16679383,  0.1528243 ,  0.38167456,\n",
       "        0.112425  ,  0.11102494,  0.14015101,  0.15067779,  0.81157417,\n",
       "        0.9058459 ,  0.90808825,  0.19616793,  0.66601972,  0.13222412,\n",
       "        0.41048747,  0.14817007,  0.95280971,  0.38387299,  0.87950281,\n",
       "        0.77869453,  0.12103521,  0.15068159,  0.88244205,  0.11754217,\n",
       "        0.61583881,  0.91526731,  0.916427  ,  0.17700628,  0.90031665,\n",
       "        0.92108505,  0.9213329 ,  0.75432075,  0.1175091 ,  0.1170899 ,\n",
       "        0.65039578,  0.75442071,  0.1060613 ,  0.91736151,  0.85061991,\n",
       "        0.13999016,  0.12104904,  0.87526803,  0.77950636,  0.01027834,\n",
       "        0.89671985,  0.04181675,  0.73935152,  0.54829833,  0.9394355 ,\n",
       "        0.64268477,  0.25597086,  0.38012672,  0.09161807,  0.87634989,\n",
       "        0.1175091 ,  0.31351499,  0.87979156,  0.06986248,  0.26198206,\n",
       "        0.34544488,  0.8570755 ,  0.22140399,  0.23932112,  0.17841861,\n",
       "        0.80953532,  0.71255041,  0.55450414,  0.19125407,  0.07681434,\n",
       "        0.13646254,  0.38607618,  0.14839225,  0.0956778 ,  0.13003129,\n",
       "        0.11785353,  0.91806001,  0.72615515,  0.77874057,  0.77874057,\n",
       "        0.07846645,  0.18311709,  0.54436685,  0.09501552,  0.16149534,\n",
       "        0.11056656,  0.70601442,  0.661285  ,  0.77869453,  0.91897678,\n",
       "        0.36468768,  0.11571197,  0.1528243 ,  0.51584235,  0.60716907,\n",
       "        0.87748183,  0.68012093,  0.54624045,  0.16277421,  0.15275069,\n",
       "        0.89558636,  0.84944196,  0.10424062,  0.82542952,  0.1175091 ,\n",
       "        0.3110092 ,  0.0660074 ,  0.73935152,  0.21220795,  0.85787596,\n",
       "        0.31529224,  0.14423601,  0.06184624,  0.90039419,  0.69850492,\n",
       "        0.14012609,  0.61118174,  0.13738151,  0.25083276,  0.78775942,\n",
       "        0.08417974,  0.12471537,  0.6086894 ,  0.08696012,  0.69522192,\n",
       "        0.14249719,  0.05777867,  0.33451956,  0.14423071,  0.40179876,\n",
       "        0.1175091 ,  0.21190705,  0.91716688,  0.21680472,  0.07206703,\n",
       "        0.63501339,  0.70383694,  0.85605567,  0.21000387,  0.79040784,\n",
       "        0.13018828,  0.25430864,  0.11405489,  0.57009294,  0.12581762,\n",
       "        0.11737069,  0.72860031,  0.8378575 ,  0.21221515,  0.10426476,\n",
       "        0.381943  ,  0.55450414,  0.62615134,  0.16149679,  0.1804132 ,\n",
       "        0.92659973,  0.56825751,  0.72239473,  0.21591087,  0.20362809,\n",
       "        0.61822455,  0.14889169,  0.09389914,  0.7878804 ,  0.11755557,\n",
       "        0.6400459 ,  0.86966357,  0.33547931,  0.69693722,  0.21722237,\n",
       "        0.15259073,  0.08763839,  0.39429612,  0.21513386,  0.11754217,\n",
       "        0.12641951,  0.15081959,  0.85682755,  0.63775642,  0.21221515,\n",
       "        0.23952282,  0.09813593,  0.25032355,  0.1265856 ,  0.11754217,\n",
       "        0.08667109,  0.21680472,  0.19389572,  0.2122065 ,  0.7263094 ,\n",
       "        0.11737069,  0.0869354 ,  0.72239505,  0.83191603,  0.68128384,\n",
       "        0.39444086,  0.14249719,  0.08292635,  0.14005759,  0.81840699,\n",
       "        0.05120785,  0.21680472,  0.05967565,  0.34920979,  0.38192559,\n",
       "        0.40179876,  0.83646435,  0.20280731,  0.11072935,  0.16191087,\n",
       "        0.08763839,  0.14409676,  0.20052356,  0.14604289,  0.14430091,\n",
       "        0.13173268,  0.74735206,  0.11906276,  0.90292369,  0.1322004 ,\n",
       "        0.16192778,  0.81667351,  0.77865148,  0.56307962,  0.93193179,\n",
       "        0.44802918,  0.7865577 ,  0.381943  ,  0.12068259,  0.13606823,\n",
       "        0.20663592,  0.11754217,  0.32050601,  0.73991489,  0.13212924,\n",
       "        0.24858941,  0.75116401,  0.21793994,  0.67215267,  0.10423498,\n",
       "        0.89654692,  0.14015101,  0.13003129,  0.8579037 ,  0.13003227,\n",
       "        0.15022123,  0.63775642,  0.48060765,  0.08417974,  0.15080018,\n",
       "        0.87331323,  0.13003227,  0.14007517,  0.69720616,  0.61955342,\n",
       "        0.89853038,  0.25841956,  0.9091332 ,  0.11893269,  0.93013075,\n",
       "        0.88538344,  0.49240999,  0.47557915,  0.1522626 ,  0.21549154,\n",
       "        0.1550375 ,  0.78428719,  0.24254405,  0.07992985,  0.30595687,\n",
       "        0.57796561,  0.23202322,  0.21224253,  0.15466314,  0.68035706,\n",
       "        0.16422952,  0.76972865,  0.51279988,  0.82387322,  0.48799712,\n",
       "        0.21221515,  0.08161335,  0.22158227,  0.11754217,  0.63501339,\n",
       "        0.07236507,  0.15278302,  0.69305844,  0.13003227,  0.10422695,\n",
       "        0.08253041,  0.64436581,  0.32055105,  0.77869453,  0.16637755,\n",
       "        0.1545591 ,  0.75212904,  0.80640882,  0.58235033,  0.10424062,\n",
       "        0.76201554,  0.84868643,  0.10843707,  0.35299593,  0.13037964,\n",
       "        0.93516665,  0.13082814,  0.16540259,  0.14018944,  0.11754217,\n",
       "        0.09502886,  0.75986476,  0.06550641,  0.80087843,  0.13176284,\n",
       "        0.07331131,  0.79470984,  0.06063981,  0.13003129,  0.20411271,\n",
       "        0.69840463,  0.1175091 ,  0.38970933,  0.07208432,  0.35428251,\n",
       "        0.06776459,  0.11069796,  0.39187395,  0.81345236,  0.87505693,\n",
       "        0.55326438,  0.11732785,  0.7155625 ,  0.21221515,  0.09519348,\n",
       "        0.79194582,  0.07658586,  0.57108643,  0.82324866,  0.23231701,\n",
       "        0.09942954,  0.22254891,  0.13031669,  0.14425092,  0.14636852,\n",
       "        0.17058929,  0.17781521,  0.91913036,  0.12468056,  0.21220937,\n",
       "        0.09739199,  0.05770039,  0.37965772,  0.36906963,  0.57791104,\n",
       "        0.7878804 ,  0.10424062,  0.16577268,  0.62607407,  0.08700117,\n",
       "        0.14846094,  0.91897678,  0.63415872,  0.1283378 ,  0.7263094 ,\n",
       "        0.2165064 ,  0.15278302,  0.21594628,  0.11743497,  0.67288189,\n",
       "        0.1175091 ,  0.85027095,  0.1443988 ,  0.77872275,  0.83103792,\n",
       "        0.15437489,  0.1175091 ,  0.7015348 ,  0.25180546,  0.25686971,\n",
       "        0.15390165,  0.09070352,  0.2453463 ,  0.09223423,  0.10927946,\n",
       "        0.12235802,  0.23932112,  0.1174832 ,  0.07437117,  0.85686242,\n",
       "        0.66304221,  0.292903  ,  0.0642812 ,  0.20446769,  0.21680472,\n",
       "        0.15716322,  0.13033886,  0.70981473,  0.54444255,  0.60763973,\n",
       "        0.77883258,  0.44351463,  0.14881964,  0.04361356,  0.0713055 ,\n",
       "        0.23179615,  0.05635801,  0.15339294,  0.15716891,  0.95145268,\n",
       "        0.29504893,  0.82598939,  0.1283378 ,  0.14190172,  0.1736911 ,\n",
       "        0.11251999,  0.07208432,  0.77868858,  0.2346285 ,  0.076666  ])"
      ]
     },
     "execution_count": 394,
     "metadata": {},
     "output_type": "execute_result"
    }
   ],
   "source": [
    "lg.predict_proba(data_train_feature)[:,1]\n",
    "#X_test = torch.from_numpy(data_train_feature).float()\n",
    "#test = Variable(X_test)\n",
    "#model(test).data[:,1]"
   ]
  },
  {
   "cell_type": "code",
   "execution_count": 395,
   "metadata": {
    "collapsed": true
   },
   "outputs": [],
   "source": [
    "def get_oof_NN(x_train, y_train, x_test):\n",
    "    \n",
    "    clf = Net()\n",
    "    oof_train = np.zeros((data_train_target.shape[0],))\n",
    "    oof_test = np.zeros((data_test_target.shape[0],))\n",
    "    oof_test_skf = np.empty((3, data_test_target.shape[0]))\n",
    "\n",
    "    for i, (train_index, test_index) in enumerate(StratifiedKFold(n_splits=3).split(data_train_feature, data_train_target)): # NFOLDS回まわる\n",
    "        x_tr = x_train[train_index]\n",
    "        y_tr = y_train[train_index]\n",
    "        x_te = x_train[test_index]\n",
    "        \n",
    "        train_X = torch.from_numpy(x_tr).float()\n",
    "        train_Y = torch.from_numpy(y_tr).long()\n",
    "        test_X = torch.from_numpy(x_te).float()\n",
    "\n",
    "        train = TensorDataset(train_X, train_Y)\n",
    "        train_loader = DataLoader(train, batch_size=16, shuffle=True)\n",
    "        TrainingNN(clf,train_loader)\n",
    "        \n",
    "        test_x = Variable(test_X)\n",
    "        X_test = torch.from_numpy(x_test).float()\n",
    "        test = Variable(X_test)\n",
    "        \n",
    "        oof_train[test_index] = clf(test_x).data[:,1]\n",
    "        oof_test_skf[i, :] = clf(test).data[:,1]\n",
    "\n",
    "    oof_test[:] = oof_test_skf.mean(axis=0)\n",
    "    return oof_train.reshape(-1, 1), oof_test.reshape(-1, 1)\n",
    "\n"
   ]
  },
  {
   "cell_type": "code",
   "execution_count": 396,
   "metadata": {},
   "outputs": [
    {
     "name": "stdout",
     "output_type": "stream",
     "text": [
      "<class '__main__.Net'>\n"
     ]
    },
    {
     "name": "stderr",
     "output_type": "stream",
     "text": [
      "/Users/GenseiYoshimura/anaconda/lib/python3.6/site-packages/ipykernel_launcher.py:16: UserWarning: Implicit dimension choice for softmax has been deprecated. Change the call to include dim=X as an argument.\n",
      "  app.launch_new_instance()\n",
      "/Users/GenseiYoshimura/anaconda/lib/python3.6/site-packages/ipykernel_launcher.py:17: UserWarning: invalid index of a 0-dim tensor. This will be an error in PyTorch 0.5. Use tensor.item() to convert a 0-dim tensor to a Python number\n"
     ]
    },
    {
     "name": "stdout",
     "output_type": "stream",
     "text": [
      "50 tensor(15.2682)\n",
      "100 tensor(15.3297)\n",
      "150 tensor(15.0409)\n",
      "200 tensor(15.0302)\n",
      "250 tensor(14.3295)\n",
      "300 tensor(15.5608)\n",
      "50 tensor(15.6298)\n",
      "100 tensor(15.8657)\n",
      "150 tensor(15.2892)\n",
      "200 tensor(14.4705)\n",
      "250 tensor(15.3285)\n",
      "300 tensor(15.1065)\n",
      "50 tensor(14.6341)\n",
      "100 tensor(17.0264)\n",
      "150 tensor(14.6669)\n",
      "200 tensor(14.7940)\n",
      "250 tensor(15.0646)\n",
      "300 tensor(14.7937)\n"
     ]
    }
   ],
   "source": [
    "print(type(model))\n",
    "lg = LogisticRegression()\n",
    "rf = RandomForestClassifier()\n",
    "svc = svm.SVC(probability=True)\n",
    "gb = GradientBoostingClassifier(n_estimators=100, learning_rate=0.1,max_depth=1)\n",
    "model=Net()\n",
    "lg_oof_train,lg_oof_test = get_oof(lg,data_train_feature,data_train_target,data_test_feature)\n",
    "rf_oof_train, rf_oof_test = get_oof(rf,data_train_feature, data_train_target, data_test_feature)\n",
    "gb_oof_train,gb_oof_test = get_oof(gb,data_train_feature,data_train_target,data_test_feature)\n",
    "svc_oof_train,svc_oof_test = get_oof(svc,data_train_feature,data_train_target,data_test_feature)\n",
    "nn_oof_train,nn_oof_test = get_oof_NN(data_train_feature,data_train_target,data_test_feature)\n",
    "\n"
   ]
  },
  {
   "cell_type": "code",
   "execution_count": 397,
   "metadata": {},
   "outputs": [
    {
     "data": {
      "text/plain": [
       "array([[ 0.47222309],\n",
       "       [ 0.6325324 ],\n",
       "       [ 0.39704932],\n",
       "       [ 0.23704306],\n",
       "       [ 0.22025829],\n",
       "       [ 0.33268469],\n",
       "       [ 0.28993794],\n",
       "       [ 0.32075404],\n",
       "       [ 0.42957726],\n",
       "       [ 0.25366277],\n",
       "       [ 0.55000563],\n",
       "       [ 0.32593394],\n",
       "       [ 0.36013542],\n",
       "       [ 0.22407097],\n",
       "       [ 0.24628375],\n",
       "       [ 0.22880918],\n",
       "       [ 0.50324363],\n",
       "       [ 0.45180691],\n",
       "       [ 0.29971956],\n",
       "       [ 0.22873317],\n",
       "       [ 0.48787434],\n",
       "       [ 0.24592412],\n",
       "       [ 0.53550479],\n",
       "       [ 0.2982439 ],\n",
       "       [ 0.65163922],\n",
       "       [ 0.22310582],\n",
       "       [ 0.39835843],\n",
       "       [ 0.54814637],\n",
       "       [ 0.42913104],\n",
       "       [ 0.36490293],\n",
       "       [ 0.42071846],\n",
       "       [ 0.59071956],\n",
       "       [ 0.2310364 ],\n",
       "       [ 0.26050227],\n",
       "       [ 0.26050227],\n",
       "       [ 0.25026662],\n",
       "       [ 0.43510813],\n",
       "       [ 0.71684662],\n",
       "       [ 0.19516223],\n",
       "       [ 0.19516223],\n",
       "       [ 0.59771714],\n",
       "       [ 0.59765133],\n",
       "       [ 0.57518526],\n",
       "       [ 0.37928585],\n",
       "       [ 0.22270253],\n",
       "       [ 0.47222745],\n",
       "       [ 0.36710164],\n",
       "       [ 0.5606498 ],\n",
       "       [ 0.51159482],\n",
       "       [ 0.26912961],\n",
       "       [ 0.6198099 ],\n",
       "       [ 0.56374066],\n",
       "       [ 0.2662168 ],\n",
       "       [ 0.21764479],\n",
       "       [ 0.45533657],\n",
       "       [ 0.65655855],\n",
       "       [ 0.1960421 ],\n",
       "       [ 0.27833016],\n",
       "       [ 0.21813077],\n",
       "       [ 0.62053267],\n",
       "       [ 0.21928035],\n",
       "       [ 0.24099375],\n",
       "       [ 0.24067845],\n",
       "       [ 0.625486  ],\n",
       "       [ 0.25433387],\n",
       "       [ 0.59569981],\n",
       "       [ 0.40657799],\n",
       "       [ 0.39843407],\n",
       "       [ 0.40579   ],\n",
       "       [ 0.22872563],\n",
       "       [ 0.18584825],\n",
       "       [ 0.25555009],\n",
       "       [ 0.3178397 ],\n",
       "       [ 0.23286126],\n",
       "       [ 0.44791702],\n",
       "       [ 0.2297139 ],\n",
       "       [ 0.23143311],\n",
       "       [ 0.59305215],\n",
       "       [ 0.23143344],\n",
       "       [ 0.47222555],\n",
       "       [ 0.43138371],\n",
       "       [ 0.56915694],\n",
       "       [ 0.56287836],\n",
       "       [ 0.3412899 ],\n",
       "       [ 0.24029359],\n",
       "       [ 0.23292214],\n",
       "       [ 0.34157217],\n",
       "       [ 0.24881862],\n",
       "       [ 0.56077528],\n",
       "       [ 0.52813123],\n",
       "       [ 0.23143311],\n",
       "       [ 0.5921164 ],\n",
       "       [ 0.24263591],\n",
       "       [ 0.56713321],\n",
       "       [ 0.2129329 ],\n",
       "       [ 0.40502693],\n",
       "       [ 0.55395591],\n",
       "       [ 0.2875328 ],\n",
       "       [ 0.23952438],\n",
       "       [ 0.47982862],\n",
       "       [ 0.53550479],\n",
       "       [ 0.55560498],\n",
       "       [ 0.53273478],\n",
       "       [ 0.47904862],\n",
       "       [ 0.22911554],\n",
       "       [ 0.2246422 ],\n",
       "       [ 0.29919787],\n",
       "       [ 0.34773056],\n",
       "       [ 0.40502693],\n",
       "       [ 0.59935419],\n",
       "       [ 0.214057  ],\n",
       "       [ 0.37222979],\n",
       "       [ 0.34782348],\n",
       "       [ 0.49986414],\n",
       "       [ 0.2142082 ],\n",
       "       [ 0.23300051],\n",
       "       [ 0.35560453],\n",
       "       [ 0.4914544 ],\n",
       "       [ 0.26462964],\n",
       "       [ 0.29509457],\n",
       "       [ 0.47738276],\n",
       "       [ 0.20226116],\n",
       "       [ 0.31166316],\n",
       "       [ 0.47429644],\n",
       "       [ 0.46992598],\n",
       "       [ 0.24008833],\n",
       "       [ 0.66100086],\n",
       "       [ 0.54111569],\n",
       "       [ 0.23143311],\n",
       "       [ 0.61352782],\n",
       "       [ 0.34003866],\n",
       "       [ 0.65974982],\n",
       "       [ 0.23277707],\n",
       "       [ 0.21851308],\n",
       "       [ 0.23230907],\n",
       "       [ 0.55197235],\n",
       "       [ 0.21776439],\n",
       "       [ 0.19434042],\n",
       "       [ 0.70718004],\n",
       "       [ 0.47751324],\n",
       "       [ 0.2286322 ],\n",
       "       [ 0.3653887 ],\n",
       "       [ 0.56377252],\n",
       "       [ 0.25726114],\n",
       "       [ 0.23931932],\n",
       "       [ 0.22723653],\n",
       "       [ 0.23420492],\n",
       "       [ 0.22196741],\n",
       "       [ 0.63083778],\n",
       "       [ 0.57114075],\n",
       "       [ 0.5528522 ],\n",
       "       [ 0.43654172],\n",
       "       [ 0.62205479],\n",
       "       [ 0.43348742],\n",
       "       [ 0.35917579],\n",
       "       [ 0.36736796],\n",
       "       [ 0.47222556],\n",
       "       [ 0.49437415],\n",
       "       [ 0.55674568],\n",
       "       [ 0.23277707],\n",
       "       [ 0.44066852],\n",
       "       [ 0.2244881 ],\n",
       "       [ 0.4950442 ],\n",
       "       [ 0.24263591],\n",
       "       [ 0.24209782],\n",
       "       [ 0.49821356],\n",
       "       [ 0.3498627 ],\n",
       "       [ 0.34367101],\n",
       "       [ 0.22252806],\n",
       "       [ 0.55923183],\n",
       "       [ 0.21386845],\n",
       "       [ 0.37743797],\n",
       "       [ 0.38185322],\n",
       "       [ 0.32425658],\n",
       "       [ 0.42892226],\n",
       "       [ 0.41890391],\n",
       "       [ 0.20831064],\n",
       "       [ 0.22984928],\n",
       "       [ 0.19516223],\n",
       "       [ 0.47823036],\n",
       "       [ 0.45484613],\n",
       "       [ 0.22804273],\n",
       "       [ 0.25098946],\n",
       "       [ 0.28162357],\n",
       "       [ 0.24029359],\n",
       "       [ 0.32760113],\n",
       "       [ 0.27376511],\n",
       "       [ 0.54344406],\n",
       "       [ 0.40943298],\n",
       "       [ 0.58533256],\n",
       "       [ 0.26748449]])"
      ]
     },
     "execution_count": 397,
     "metadata": {},
     "output_type": "execute_result"
    }
   ],
   "source": [
    "svc_oof_test"
   ]
  },
  {
   "cell_type": "code",
   "execution_count": null,
   "metadata": {},
   "outputs": [],
   "source": []
  },
  {
   "cell_type": "code",
   "execution_count": null,
   "metadata": {},
   "outputs": [],
   "source": []
  },
  {
   "cell_type": "code",
   "execution_count": 398,
   "metadata": {
    "scrolled": true
   },
   "outputs": [
    {
     "data": {
      "text/plain": [
       "191"
      ]
     },
     "execution_count": 398,
     "metadata": {},
     "output_type": "execute_result"
    }
   ],
   "source": [
    "len(oof_test)"
   ]
  },
  {
   "cell_type": "code",
   "execution_count": 399,
   "metadata": {},
   "outputs": [
    {
     "data": {
      "text/plain": [
       "array([[ -0.00000000e+000,  -0.00000000e+000,   8.48798317e-314, ...,\n",
       "          6.93128705e-310,   6.93140108e-310,   2.19841359e-314],\n",
       "       [  4.66839074e-313,   2.75859453e-313,   9.88131292e-324, ...,\n",
       "          6.93140108e-310,   6.93140108e-310,   5.51718906e-313],\n",
       "       [  5.54252145e-313,   5.00659867e-308,   1.03977794e-312, ...,\n",
       "          1.35807731e-312,   1.48219694e-323,   6.93140108e-310],\n",
       "       ..., \n",
       "       [  6.93140108e-310,   6.93140108e-310,   6.93140108e-310, ...,\n",
       "          0.00000000e+000,   1.28457068e-322,   6.93140108e-310],\n",
       "       [  6.93140108e-310,   4.94065646e-324,   8.48798319e-314, ...,\n",
       "          0.00000000e+000,   4.03179328e-313,   0.00000000e+000],\n",
       "       [  4.94065646e-323,   3.39519454e-313,   0.00000000e+000, ...,\n",
       "          0.00000000e+000,   1.28457068e-322,   6.93140108e-310]])"
      ]
     },
     "execution_count": 399,
     "metadata": {},
     "output_type": "execute_result"
    }
   ],
   "source": [
    "oof_test_skf"
   ]
  },
  {
   "cell_type": "code",
   "execution_count": null,
   "metadata": {
    "collapsed": true
   },
   "outputs": [],
   "source": []
  },
  {
   "cell_type": "code",
   "execution_count": null,
   "metadata": {},
   "outputs": [],
   "source": []
  },
  {
   "cell_type": "code",
   "execution_count": 400,
   "metadata": {},
   "outputs": [
    {
     "name": "stdout",
     "output_type": "stream",
     "text": [
      "700\n",
      "700\n"
     ]
    }
   ],
   "source": [
    "oof_train[0]\n",
    "print(len(oof_train))\n",
    "print(len(oof_train))"
   ]
  },
  {
   "cell_type": "code",
   "execution_count": 401,
   "metadata": {},
   "outputs": [
    {
     "name": "stdout",
     "output_type": "stream",
     "text": [
      "base_predictions_train.shape :  (700, 5)\n"
     ]
    },
    {
     "data": {
      "text/html": [
       "<div>\n",
       "<style>\n",
       "    .dataframe thead tr:only-child th {\n",
       "        text-align: right;\n",
       "    }\n",
       "\n",
       "    .dataframe thead th {\n",
       "        text-align: left;\n",
       "    }\n",
       "\n",
       "    .dataframe tbody tr th {\n",
       "        vertical-align: top;\n",
       "    }\n",
       "</style>\n",
       "<table border=\"1\" class=\"dataframe\">\n",
       "  <thead>\n",
       "    <tr style=\"text-align: right;\">\n",
       "      <th></th>\n",
       "      <th>GradientBoost</th>\n",
       "      <th>LogicticReg</th>\n",
       "      <th>NN</th>\n",
       "      <th>RandomForest</th>\n",
       "      <th>SVC</th>\n",
       "    </tr>\n",
       "  </thead>\n",
       "  <tbody>\n",
       "    <tr>\n",
       "      <th>0</th>\n",
       "      <td>0.094545</td>\n",
       "      <td>0.108456</td>\n",
       "      <td>5.759919e-37</td>\n",
       "      <td>0.3</td>\n",
       "      <td>0.253598</td>\n",
       "    </tr>\n",
       "    <tr>\n",
       "      <th>1</th>\n",
       "      <td>0.900090</td>\n",
       "      <td>0.929258</td>\n",
       "      <td>1.000000e+00</td>\n",
       "      <td>0.9</td>\n",
       "      <td>0.614685</td>\n",
       "    </tr>\n",
       "    <tr>\n",
       "      <th>2</th>\n",
       "      <td>0.532737</td>\n",
       "      <td>0.591901</td>\n",
       "      <td>6.977868e-05</td>\n",
       "      <td>0.7</td>\n",
       "      <td>0.226099</td>\n",
       "    </tr>\n",
       "    <tr>\n",
       "      <th>3</th>\n",
       "      <td>0.891039</td>\n",
       "      <td>0.893623</td>\n",
       "      <td>1.000000e+00</td>\n",
       "      <td>1.0</td>\n",
       "      <td>0.771676</td>\n",
       "    </tr>\n",
       "    <tr>\n",
       "      <th>4</th>\n",
       "      <td>0.121942</td>\n",
       "      <td>0.090771</td>\n",
       "      <td>0.000000e+00</td>\n",
       "      <td>0.1</td>\n",
       "      <td>0.181811</td>\n",
       "    </tr>\n",
       "  </tbody>\n",
       "</table>\n",
       "</div>"
      ],
      "text/plain": [
       "   GradientBoost  LogicticReg            NN  RandomForest       SVC\n",
       "0       0.094545     0.108456  5.759919e-37           0.3  0.253598\n",
       "1       0.900090     0.929258  1.000000e+00           0.9  0.614685\n",
       "2       0.532737     0.591901  6.977868e-05           0.7  0.226099\n",
       "3       0.891039     0.893623  1.000000e+00           1.0  0.771676\n",
       "4       0.121942     0.090771  0.000000e+00           0.1  0.181811"
      ]
     },
     "execution_count": 401,
     "metadata": {},
     "output_type": "execute_result"
    }
   ],
   "source": [
    "base_predictions_train = pd.DataFrame( {'LogicticReg': lg_oof_train.ravel(),\n",
    "      'RandomForest': rf_oof_train.ravel(),\n",
    "      'GradientBoost': gb_oof_train.ravel(),\n",
    "      'SVC': svc_oof_train.ravel(),\n",
    "      'NN': nn_oof_train.ravel()\n",
    "    })\n",
    "print('base_predictions_train.shape : ', base_predictions_train.shape)\n",
    "base_predictions_train.head(5)"
   ]
  },
  {
   "cell_type": "code",
   "execution_count": 402,
   "metadata": {},
   "outputs": [
    {
     "name": "stdout",
     "output_type": "stream",
     "text": [
      "x_train.shape :  (700, 5)\n",
      "x_test.shape :  (191, 5)\n"
     ]
    }
   ],
   "source": [
    "x_train = np.concatenate(( lg_oof_train,rf_oof_train, gb_oof_train, svc_oof_train, nn_oof_train), axis=1)\n",
    "x_test = np.concatenate(( lg_oof_test,rf_oof_test, gb_oof_test, svc_oof_test, nn_oof_test), axis=1)\n",
    "print('x_train.shape : ', x_train.shape)\n",
    "print('x_test.shape : ', x_test.shape)"
   ]
  },
  {
   "cell_type": "code",
   "execution_count": 403,
   "metadata": {},
   "outputs": [
    {
     "data": {
      "text/plain": [
       "(700,)"
      ]
     },
     "execution_count": 403,
     "metadata": {},
     "output_type": "execute_result"
    }
   ],
   "source": [
    "data_train_target.shape"
   ]
  },
  {
   "cell_type": "code",
   "execution_count": 404,
   "metadata": {},
   "outputs": [],
   "source": [
    "gb_st2 = GradientBoostingClassifier(n_estimators=100, learning_rate=0.1,max_depth=1).fit(x_train, data_train_target)\n",
    "predictions = gb_st2.predict(x_test)"
   ]
  },
  {
   "cell_type": "code",
   "execution_count": 405,
   "metadata": {},
   "outputs": [
    {
     "data": {
      "text/plain": [
       "0.83246073298429324"
      ]
     },
     "execution_count": 405,
     "metadata": {},
     "output_type": "execute_result"
    }
   ],
   "source": [
    "sum(predictions == data_test_target)/len(predictions)"
   ]
  },
  {
   "cell_type": "code",
   "execution_count": 406,
   "metadata": {},
   "outputs": [
    {
     "data": {
      "text/plain": [
       "array([ 1.,  1.,  1.,  0.,  0.,  0.,  1.,  0.,  1.,  0.,  1.,  0.,  0.,\n",
       "        0.,  0.,  0.,  1.,  1.,  0.,  0.,  1.,  0.,  0.,  0.,  0.,  0.,\n",
       "        0.,  1.,  0.,  1.,  1.,  0.,  0.,  0.,  0.,  0.,  0.,  1.,  0.,\n",
       "        0.,  1.,  0.,  1.,  0.,  0.,  0.,  0.,  1.,  0.,  0.,  1.,  0.,\n",
       "        0.,  0.,  1.,  1.,  0.,  0.,  0.,  1.,  0.,  0.,  0.,  1.,  0.,\n",
       "        1.,  0.,  1.,  0.,  0.,  0.,  0.,  1.,  0.,  1.,  0.,  0.,  1.,\n",
       "        0.,  1.,  1.,  1.,  0.,  0.,  0.,  0.,  1.,  0.,  0.,  0.,  0.,\n",
       "        0.,  0.,  0.,  0.,  0.,  1.,  0.,  0.,  1.,  0.,  1.,  0.,  0.,\n",
       "        0.,  0.,  0.,  1.,  0.,  1.,  0.,  0.,  0.,  0.,  0.,  0.,  1.,\n",
       "        0.,  0.,  0.,  1.,  0.,  0.,  1.,  0.,  0.,  0.,  1.,  0.,  1.,\n",
       "        0.,  1.,  0.,  0.,  0.,  1.,  0.,  0.,  0.,  0.,  0.,  0.,  1.,\n",
       "        0.,  0.,  0.,  0.,  0.,  0.,  1.,  0.,  0.,  1.,  1.,  1.,  1.,\n",
       "        1.,  0.,  1.,  0.,  0.,  0.,  1.,  0.,  0.,  1.,  1.,  0.,  0.,\n",
       "        0.,  0.,  1.,  0.,  0.,  1.,  1.,  0.,  0.,  0.,  1.,  1.,  0.,\n",
       "        1.,  0.,  0.,  0.,  0.,  1.,  1.,  0.,  0.])"
      ]
     },
     "execution_count": 406,
     "metadata": {},
     "output_type": "execute_result"
    }
   ],
   "source": [
    "predictions"
   ]
  },
  {
   "cell_type": "code",
   "execution_count": 407,
   "metadata": {},
   "outputs": [
    {
     "data": {
      "text/plain": [
       "array([ 1.,  1.,  0.,  0.,  0.,  0.,  1.,  1.,  1.,  1.,  1.,  0.,  1.,\n",
       "        0.,  0.,  0.,  1.,  1.,  0.,  0.,  1.,  0.,  0.,  0.,  1.,  0.,\n",
       "        1.,  1.,  0.,  0.,  1.,  0.,  0.,  0.,  0.,  0.,  0.,  1.,  0.,\n",
       "        0.,  1.,  0.,  1.,  0.,  1.,  0.,  0.,  1.,  0.,  0.,  1.,  1.,\n",
       "        0.,  0.,  1.,  1.,  0.,  0.,  0.,  1.,  0.,  0.,  1.,  1.,  0.,\n",
       "        1.,  0.,  0.,  0.,  0.,  0.,  0.,  0.,  0.,  1.,  0.,  0.,  1.,\n",
       "        0.,  1.,  1.,  1.,  0.,  0.,  0.,  0.,  1.,  0.,  1.,  0.,  0.,\n",
       "        0.,  0.,  0.,  0.,  0.,  1.,  1.,  0.,  0.,  0.,  1.,  1.,  1.,\n",
       "        1.,  0.,  0.,  0.,  0.,  1.,  0.,  0.,  0.,  0.,  0.,  0.,  0.,\n",
       "        0.,  0.,  0.,  1.,  1.,  0.,  1.,  0.,  0.,  0.,  1.,  1.,  1.,\n",
       "        1.,  1.,  0.,  0.,  0.,  1.,  0.,  0.,  1.,  1.,  0.,  0.,  1.,\n",
       "        0.,  0.,  0.,  0.,  0.,  0.,  1.,  0.,  0.,  0.,  1.,  0.,  1.,\n",
       "        1.,  1.,  1.,  0.,  0.,  0.,  1.,  0.,  0.,  1.,  1.,  0.,  0.,\n",
       "        1.,  0.,  1.,  0.,  0.,  1.,  1.,  0.,  0.,  0.,  1.,  1.,  0.,\n",
       "        0.,  0.,  0.,  0.,  0.,  1.,  0.,  1.,  0.])"
      ]
     },
     "execution_count": 407,
     "metadata": {},
     "output_type": "execute_result"
    }
   ],
   "source": [
    "data_test_target"
   ]
  },
  {
   "cell_type": "code",
   "execution_count": null,
   "metadata": {},
   "outputs": [],
   "source": []
  },
  {
   "cell_type": "code",
   "execution_count": 414,
   "metadata": {},
   "outputs": [],
   "source": [
    "test = []\n",
    "for i,aaa in enumerate(nn_oof_test):\n",
    "    if nn_oof_test[i] > 0.5 :\n",
    "        test.append(1)\n",
    "    else:\n",
    "        test.append(0)"
   ]
  },
  {
   "cell_type": "code",
   "execution_count": 415,
   "metadata": {},
   "outputs": [
    {
     "data": {
      "text/plain": [
       "[1,\n",
       " 0,\n",
       " 1,\n",
       " 0,\n",
       " 0,\n",
       " 0,\n",
       " 1,\n",
       " 0,\n",
       " 1,\n",
       " 0,\n",
       " 1,\n",
       " 0,\n",
       " 0,\n",
       " 0,\n",
       " 0,\n",
       " 0,\n",
       " 1,\n",
       " 1,\n",
       " 0,\n",
       " 0,\n",
       " 1,\n",
       " 0,\n",
       " 0,\n",
       " 0,\n",
       " 0,\n",
       " 0,\n",
       " 1,\n",
       " 1,\n",
       " 0,\n",
       " 1,\n",
       " 1,\n",
       " 0,\n",
       " 0,\n",
       " 0,\n",
       " 0,\n",
       " 0,\n",
       " 1,\n",
       " 0,\n",
       " 0,\n",
       " 0,\n",
       " 0,\n",
       " 0,\n",
       " 1,\n",
       " 0,\n",
       " 0,\n",
       " 0,\n",
       " 0,\n",
       " 1,\n",
       " 0,\n",
       " 0,\n",
       " 1,\n",
       " 1,\n",
       " 0,\n",
       " 0,\n",
       " 1,\n",
       " 1,\n",
       " 0,\n",
       " 0,\n",
       " 0,\n",
       " 1,\n",
       " 0,\n",
       " 0,\n",
       " 0,\n",
       " 1,\n",
       " 0,\n",
       " 1,\n",
       " 0,\n",
       " 1,\n",
       " 0,\n",
       " 0,\n",
       " 0,\n",
       " 0,\n",
       " 1,\n",
       " 0,\n",
       " 1,\n",
       " 0,\n",
       " 0,\n",
       " 1,\n",
       " 0,\n",
       " 1,\n",
       " 1,\n",
       " 1,\n",
       " 0,\n",
       " 0,\n",
       " 0,\n",
       " 0,\n",
       " 1,\n",
       " 0,\n",
       " 1,\n",
       " 0,\n",
       " 0,\n",
       " 0,\n",
       " 0,\n",
       " 0,\n",
       " 0,\n",
       " 0,\n",
       " 1,\n",
       " 1,\n",
       " 0,\n",
       " 1,\n",
       " 0,\n",
       " 1,\n",
       " 0,\n",
       " 1,\n",
       " 0,\n",
       " 0,\n",
       " 0,\n",
       " 1,\n",
       " 0,\n",
       " 1,\n",
       " 0,\n",
       " 0,\n",
       " 0,\n",
       " 0,\n",
       " 0,\n",
       " 0,\n",
       " 1,\n",
       " 0,\n",
       " 0,\n",
       " 0,\n",
       " 1,\n",
       " 0,\n",
       " 0,\n",
       " 1,\n",
       " 0,\n",
       " 0,\n",
       " 0,\n",
       " 1,\n",
       " 0,\n",
       " 1,\n",
       " 1,\n",
       " 1,\n",
       " 0,\n",
       " 0,\n",
       " 0,\n",
       " 1,\n",
       " 0,\n",
       " 0,\n",
       " 0,\n",
       " 0,\n",
       " 0,\n",
       " 0,\n",
       " 1,\n",
       " 0,\n",
       " 0,\n",
       " 0,\n",
       " 0,\n",
       " 0,\n",
       " 0,\n",
       " 1,\n",
       " 0,\n",
       " 0,\n",
       " 1,\n",
       " 1,\n",
       " 1,\n",
       " 1,\n",
       " 1,\n",
       " 0,\n",
       " 1,\n",
       " 0,\n",
       " 0,\n",
       " 0,\n",
       " 1,\n",
       " 0,\n",
       " 0,\n",
       " 1,\n",
       " 1,\n",
       " 0,\n",
       " 0,\n",
       " 1,\n",
       " 0,\n",
       " 1,\n",
       " 0,\n",
       " 0,\n",
       " 1,\n",
       " 1,\n",
       " 0,\n",
       " 0,\n",
       " 0,\n",
       " 1,\n",
       " 1,\n",
       " 0,\n",
       " 1,\n",
       " 0,\n",
       " 0,\n",
       " 0,\n",
       " 0,\n",
       " 1,\n",
       " 1,\n",
       " 0,\n",
       " 0]"
      ]
     },
     "execution_count": 415,
     "metadata": {},
     "output_type": "execute_result"
    }
   ],
   "source": [
    "test"
   ]
  },
  {
   "cell_type": "code",
   "execution_count": 416,
   "metadata": {},
   "outputs": [
    {
     "data": {
      "text/plain": [
       "0.84816753926701571"
      ]
     },
     "execution_count": 416,
     "metadata": {},
     "output_type": "execute_result"
    }
   ],
   "source": [
    "sum(test == data_test_target)/len(test)"
   ]
  },
  {
   "cell_type": "code",
   "execution_count": 417,
   "metadata": {},
   "outputs": [
    {
     "data": {
      "text/plain": [
       "array([ 1.,  1.,  0.,  0.,  0.,  0.,  1.,  1.,  1.,  1.,  1.,  0.,  1.,\n",
       "        0.,  0.,  0.,  1.,  1.,  0.,  0.,  1.,  0.,  0.,  0.,  1.,  0.,\n",
       "        1.,  1.,  0.,  0.,  1.,  0.,  0.,  0.,  0.,  0.,  0.,  1.,  0.,\n",
       "        0.,  1.,  0.,  1.,  0.,  1.,  0.,  0.,  1.,  0.,  0.,  1.,  1.,\n",
       "        0.,  0.,  1.,  1.,  0.,  0.,  0.,  1.,  0.,  0.,  1.,  1.,  0.,\n",
       "        1.,  0.,  0.,  0.,  0.,  0.,  0.,  0.,  0.,  1.,  0.,  0.,  1.,\n",
       "        0.,  1.,  1.,  1.,  0.,  0.,  0.,  0.,  1.,  0.,  1.,  0.,  0.,\n",
       "        0.,  0.,  0.,  0.,  0.,  1.,  1.,  0.,  0.,  0.,  1.,  1.,  1.,\n",
       "        1.,  0.,  0.,  0.,  0.,  1.,  0.,  0.,  0.,  0.,  0.,  0.,  0.,\n",
       "        0.,  0.,  0.,  1.,  1.,  0.,  1.,  0.,  0.,  0.,  1.,  1.,  1.,\n",
       "        1.,  1.,  0.,  0.,  0.,  1.,  0.,  0.,  1.,  1.,  0.,  0.,  1.,\n",
       "        0.,  0.,  0.,  0.,  0.,  0.,  1.,  0.,  0.,  0.,  1.,  0.,  1.,\n",
       "        1.,  1.,  1.,  0.,  0.,  0.,  1.,  0.,  0.,  1.,  1.,  0.,  0.,\n",
       "        1.,  0.,  1.,  0.,  0.,  1.,  1.,  0.,  0.,  0.,  1.,  1.,  0.,\n",
       "        0.,  0.,  0.,  0.,  0.,  1.,  0.,  1.,  0.])"
      ]
     },
     "execution_count": 417,
     "metadata": {},
     "output_type": "execute_result"
    }
   ],
   "source": [
    "data_test_target"
   ]
  },
  {
   "cell_type": "code",
   "execution_count": null,
   "metadata": {
    "collapsed": true
   },
   "outputs": [],
   "source": []
  }
 ],
 "metadata": {
  "kernelspec": {
   "display_name": "Python 3",
   "language": "python",
   "name": "python3"
  },
  "language_info": {
   "codemirror_mode": {
    "name": "ipython",
    "version": 3
   },
   "file_extension": ".py",
   "mimetype": "text/x-python",
   "name": "python",
   "nbconvert_exporter": "python",
   "pygments_lexer": "ipython3",
   "version": "3.6.1"
  }
 },
 "nbformat": 4,
 "nbformat_minor": 2
}
