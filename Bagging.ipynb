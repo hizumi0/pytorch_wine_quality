{
 "cells": [
  {
   "cell_type": "code",
   "execution_count": 1,
   "metadata": {
    "collapsed": true
   },
   "outputs": [],
   "source": [
    "from sklearn.model_selection import train_test_split\n",
    "from sklearn import svm\n",
    "from sklearn.ensemble import GradientBoostingClassifier\n",
    "from sklearn.ensemble import RandomForestClassifier\n",
    "\n",
    "import pandas as pd\n",
    "import numpy as np"
   ]
  },
  {
   "cell_type": "code",
   "execution_count": 2,
   "metadata": {},
   "outputs": [
    {
     "name": "stdout",
     "output_type": "stream",
     "text": [
      "(30000, 24)\n"
     ]
    },
    {
     "data": {
      "text/html": [
       "<div>\n",
       "<style>\n",
       "    .dataframe thead tr:only-child th {\n",
       "        text-align: right;\n",
       "    }\n",
       "\n",
       "    .dataframe thead th {\n",
       "        text-align: left;\n",
       "    }\n",
       "\n",
       "    .dataframe tbody tr th {\n",
       "        vertical-align: top;\n",
       "    }\n",
       "</style>\n",
       "<table border=\"1\" class=\"dataframe\">\n",
       "  <thead>\n",
       "    <tr style=\"text-align: right;\">\n",
       "      <th></th>\n",
       "      <th>LIMIT_BAL</th>\n",
       "      <th>SEX</th>\n",
       "      <th>EDUCATION</th>\n",
       "      <th>MARRIAGE</th>\n",
       "      <th>AGE</th>\n",
       "      <th>PAY_0</th>\n",
       "      <th>PAY_2</th>\n",
       "      <th>PAY_3</th>\n",
       "      <th>PAY_4</th>\n",
       "      <th>PAY_5</th>\n",
       "      <th>...</th>\n",
       "      <th>BILL_AMT4</th>\n",
       "      <th>BILL_AMT5</th>\n",
       "      <th>BILL_AMT6</th>\n",
       "      <th>PAY_AMT1</th>\n",
       "      <th>PAY_AMT2</th>\n",
       "      <th>PAY_AMT3</th>\n",
       "      <th>PAY_AMT4</th>\n",
       "      <th>PAY_AMT5</th>\n",
       "      <th>PAY_AMT6</th>\n",
       "      <th>default payment next month</th>\n",
       "    </tr>\n",
       "  </thead>\n",
       "  <tbody>\n",
       "    <tr>\n",
       "      <th>14663</th>\n",
       "      <td>300000</td>\n",
       "      <td>1</td>\n",
       "      <td>2</td>\n",
       "      <td>2</td>\n",
       "      <td>39</td>\n",
       "      <td>-1</td>\n",
       "      <td>-1</td>\n",
       "      <td>-1</td>\n",
       "      <td>-1</td>\n",
       "      <td>-1</td>\n",
       "      <td>...</td>\n",
       "      <td>990</td>\n",
       "      <td>990</td>\n",
       "      <td>990</td>\n",
       "      <td>5490</td>\n",
       "      <td>990</td>\n",
       "      <td>990</td>\n",
       "      <td>990</td>\n",
       "      <td>990</td>\n",
       "      <td>990</td>\n",
       "      <td>0</td>\n",
       "    </tr>\n",
       "    <tr>\n",
       "      <th>13054</th>\n",
       "      <td>80000</td>\n",
       "      <td>1</td>\n",
       "      <td>1</td>\n",
       "      <td>2</td>\n",
       "      <td>27</td>\n",
       "      <td>-1</td>\n",
       "      <td>-1</td>\n",
       "      <td>-1</td>\n",
       "      <td>-2</td>\n",
       "      <td>-1</td>\n",
       "      <td>...</td>\n",
       "      <td>0</td>\n",
       "      <td>333</td>\n",
       "      <td>183</td>\n",
       "      <td>7900</td>\n",
       "      <td>0</td>\n",
       "      <td>0</td>\n",
       "      <td>333</td>\n",
       "      <td>0</td>\n",
       "      <td>1500</td>\n",
       "      <td>0</td>\n",
       "    </tr>\n",
       "    <tr>\n",
       "      <th>23063</th>\n",
       "      <td>30000</td>\n",
       "      <td>1</td>\n",
       "      <td>1</td>\n",
       "      <td>2</td>\n",
       "      <td>46</td>\n",
       "      <td>0</td>\n",
       "      <td>0</td>\n",
       "      <td>0</td>\n",
       "      <td>0</td>\n",
       "      <td>2</td>\n",
       "      <td>...</td>\n",
       "      <td>24116</td>\n",
       "      <td>23430</td>\n",
       "      <td>25044</td>\n",
       "      <td>2000</td>\n",
       "      <td>2000</td>\n",
       "      <td>2535</td>\n",
       "      <td>0</td>\n",
       "      <td>2000</td>\n",
       "      <td>2300</td>\n",
       "      <td>0</td>\n",
       "    </tr>\n",
       "    <tr>\n",
       "      <th>29674</th>\n",
       "      <td>110000</td>\n",
       "      <td>0</td>\n",
       "      <td>3</td>\n",
       "      <td>1</td>\n",
       "      <td>40</td>\n",
       "      <td>0</td>\n",
       "      <td>0</td>\n",
       "      <td>0</td>\n",
       "      <td>0</td>\n",
       "      <td>0</td>\n",
       "      <td>...</td>\n",
       "      <td>79368</td>\n",
       "      <td>74778</td>\n",
       "      <td>75996</td>\n",
       "      <td>4500</td>\n",
       "      <td>4100</td>\n",
       "      <td>2612</td>\n",
       "      <td>2666</td>\n",
       "      <td>2700</td>\n",
       "      <td>2659</td>\n",
       "      <td>0</td>\n",
       "    </tr>\n",
       "    <tr>\n",
       "      <th>21735</th>\n",
       "      <td>50000</td>\n",
       "      <td>1</td>\n",
       "      <td>1</td>\n",
       "      <td>2</td>\n",
       "      <td>23</td>\n",
       "      <td>-2</td>\n",
       "      <td>-2</td>\n",
       "      <td>-2</td>\n",
       "      <td>-2</td>\n",
       "      <td>-2</td>\n",
       "      <td>...</td>\n",
       "      <td>0</td>\n",
       "      <td>0</td>\n",
       "      <td>0</td>\n",
       "      <td>0</td>\n",
       "      <td>0</td>\n",
       "      <td>0</td>\n",
       "      <td>0</td>\n",
       "      <td>0</td>\n",
       "      <td>0</td>\n",
       "      <td>0</td>\n",
       "    </tr>\n",
       "  </tbody>\n",
       "</table>\n",
       "<p>5 rows × 24 columns</p>\n",
       "</div>"
      ],
      "text/plain": [
       "       LIMIT_BAL  SEX  EDUCATION  MARRIAGE  AGE  PAY_0  PAY_2  PAY_3  PAY_4  \\\n",
       "14663     300000    1          2         2   39     -1     -1     -1     -1   \n",
       "13054      80000    1          1         2   27     -1     -1     -1     -2   \n",
       "23063      30000    1          1         2   46      0      0      0      0   \n",
       "29674     110000    0          3         1   40      0      0      0      0   \n",
       "21735      50000    1          1         2   23     -2     -2     -2     -2   \n",
       "\n",
       "       PAY_5             ...              BILL_AMT4  BILL_AMT5  BILL_AMT6  \\\n",
       "14663     -1             ...                    990        990        990   \n",
       "13054     -1             ...                      0        333        183   \n",
       "23063      2             ...                  24116      23430      25044   \n",
       "29674      0             ...                  79368      74778      75996   \n",
       "21735     -2             ...                      0          0          0   \n",
       "\n",
       "       PAY_AMT1  PAY_AMT2  PAY_AMT3  PAY_AMT4  PAY_AMT5  PAY_AMT6  \\\n",
       "14663      5490       990       990       990       990       990   \n",
       "13054      7900         0         0       333         0      1500   \n",
       "23063      2000      2000      2535         0      2000      2300   \n",
       "29674      4500      4100      2612      2666      2700      2659   \n",
       "21735         0         0         0         0         0         0   \n",
       "\n",
       "       default payment next month  \n",
       "14663                           0  \n",
       "13054                           0  \n",
       "23063                           0  \n",
       "29674                           0  \n",
       "21735                           0  \n",
       "\n",
       "[5 rows x 24 columns]"
      ]
     },
     "execution_count": 2,
     "metadata": {},
     "output_type": "execute_result"
    }
   ],
   "source": [
    "#データの読み込みとデータ処理\n",
    "data = pd.read_csv(\"./data/credit_card.csv\").drop('ID',axis=1).sample(frac=1)\n",
    "data['SEX'][data['SEX'] == 1] = 0\n",
    "data['SEX'][data['SEX'] == 2] = 1\n",
    "print(data.shape)\n",
    "data['SEX']\n",
    "data.head()"
   ]
  },
  {
   "cell_type": "code",
   "execution_count": 3,
   "metadata": {
    "scrolled": false
   },
   "outputs": [
    {
     "data": {
      "text/plain": [
       "(30000, 24)"
      ]
     },
     "execution_count": 3,
     "metadata": {},
     "output_type": "execute_result"
    }
   ],
   "source": [
    "sum(data['default payment next month'] ==1 ) / len(data)\n",
    "data.shape"
   ]
  },
  {
   "cell_type": "code",
   "execution_count": 4,
   "metadata": {},
   "outputs": [
    {
     "data": {
      "text/plain": [
       "(21000, 24)"
      ]
     },
     "execution_count": 4,
     "metadata": {},
     "output_type": "execute_result"
    }
   ],
   "source": [
    "# データを訓練データと評価データに分割\n",
    "train_data = data[:int(len(data)*0.7)]\n",
    "test_data = data[int(len(data)*0.7):]\n",
    "\n",
    "train_data.shape"
   ]
  },
  {
   "cell_type": "code",
   "execution_count": 5,
   "metadata": {},
   "outputs": [],
   "source": [
    "# 訓練データを少数クラスのデータと多数クラスに分割\n",
    "train_data_1 = train_data[train_data['default payment next month'] == 1]\n",
    "train_data_0 = train_data[train_data['default payment next month'] == 0]"
   ]
  },
  {
   "cell_type": "code",
   "execution_count": null,
   "metadata": {
    "scrolled": true
   },
   "outputs": [],
   "source": []
  },
  {
   "cell_type": "code",
   "execution_count": null,
   "metadata": {},
   "outputs": [],
   "source": []
  },
  {
   "cell_type": "code",
   "execution_count": 7,
   "metadata": {},
   "outputs": [],
   "source": [
    "# 弱識別器の定義\n",
    "from sklearn.linear_model import LogisticRegression\n",
    "from sklearn import svm\n",
    "clfs = {\"GB1\":GradientBoostingClassifier(),\n",
    "        \"GB2\":GradientBoostingClassifier(),\n",
    "        \"GB3\":GradientBoostingClassifier(),\n",
    "        \"GB4\":GradientBoostingClassifier(),\n",
    "        \"GB5\":GradientBoostingClassifier(),\n",
    "        \"LR1\":LogisticRegression(),\n",
    "        \"LR2\":LogisticRegression(),\n",
    "        \"SVC\":svm.SVC()\n",
    "       }"
   ]
  },
  {
   "cell_type": "code",
   "execution_count": null,
   "metadata": {
    "collapsed": true
   },
   "outputs": [],
   "source": []
  },
  {
   "cell_type": "code",
   "execution_count": null,
   "metadata": {
    "collapsed": true
   },
   "outputs": [],
   "source": []
  },
  {
   "cell_type": "code",
   "execution_count": 8,
   "metadata": {},
   "outputs": [
    {
     "name": "stdout",
     "output_type": "stream",
     "text": [
      "(9324, 23)\n",
      "(9324,)\n"
     ]
    }
   ],
   "source": [
    "# 訓練データを説明変数、目的変数に分割\n",
    "train_data_ = np.vstack((train_data_0.sample(n=int(len(train_data_1))),train_data_1))\n",
    "train_data_feature = train_data_[:,:-1]\n",
    "train_data_target = train_data_[:,-1]\n",
    "print(train_data_feature.shape)\n",
    "print(train_data_target.shape)"
   ]
  },
  {
   "cell_type": "code",
   "execution_count": 9,
   "metadata": {
    "scrolled": true
   },
   "outputs": [],
   "source": [
    "# 各Estimatorのパラメータ探索用dict\n",
    "gb_parameters = {\n",
    "    \"clf__learning_rate\": [0.01, 0.05, 0.1],\n",
    "    \"clf__max_depth\":[3,5],\n",
    "    \"clf__subsample\":[0.5, 1.0],\n",
    "    \"clf__n_estimators\":[10]\n",
    "}\n",
    "rf_parameters = {\n",
    "    \"clf__n_estimators\" : [100],\n",
    "    \"clf__max_features\" : [1, 'auto', None],\n",
    "    \"clf__max_depth\" : [1, 5, 10, None],\n",
    "    \"clf__min_samples_leaf\": [1, 2, 4,]\n",
    "}\n",
    "lr_parameters = {\n",
    "    \"clf__C\": [0.01,0.1,1]\n",
    "}\n",
    "svc_parameters = {\n",
    "    \"clf__C\": [0.01,0.1,1,10,100],\n",
    "    \"clf__gamma\": [0.01,0.1,1,10,100]\n",
    "}"
   ]
  },
  {
   "cell_type": "code",
   "execution_count": 10,
   "metadata": {},
   "outputs": [
    {
     "data": {
      "text/plain": [
       "dtype('int64')"
      ]
     },
     "execution_count": 10,
     "metadata": {},
     "output_type": "execute_result"
    }
   ],
   "source": [
    "train_data_feature.dtype"
   ]
  },
  {
   "cell_type": "code",
   "execution_count": 11,
   "metadata": {},
   "outputs": [
    {
     "name": "stdout",
     "output_type": "stream",
     "text": [
      "1\n",
      "2\n",
      "3\n",
      "4\n",
      "5\n",
      "6\n",
      "7\n",
      "8\n"
     ]
    }
   ],
   "source": [
    "from sklearn.feature_selection import SelectFromModel\n",
    "from sklearn.preprocessing import StandardScaler\n",
    "from sklearn.model_selection import GridSearchCV\n",
    "from sklearn.pipeline import Pipeline\n",
    "i=0\n",
    "\n",
    "# 識別器格納用リスト\n",
    "# 8種類の識別器が格納される\n",
    "gb_clfs = []\n",
    "\n",
    "# 各識別器に対して学習実行\n",
    "for clf in clfs.items():\n",
    "    i += 1\n",
    "    print(i) \n",
    "    \n",
    "    # 多数データを少数データの数だけUnderSamplingし、少数データとマージ\n",
    "    train_data_ = np.vstack((train_data_0.sample(n=int(len(train_data_1))),train_data_1))\n",
    "    # マージ後の訓練データをシャッフル\n",
    "    np.random.shuffle(train_data_)\n",
    "    # 訓練データを説明変数と目的変数に分割\n",
    "    train_data_feature = train_data_[:,:-1].astype(float)\n",
    "    train_data_target = train_data_[:,-1].astype(float)\n",
    "    \n",
    "    # 説明変数(特徴量)抽出モデルと標準化モデルを定義\n",
    "    select = SelectFromModel(RandomForestClassifier(n_estimators=100, n_jobs=-1))\n",
    "    scaler = StandardScaler()\n",
    "    \n",
    "    # 一連の処理(Pipeline)を定義\n",
    "    # 特徴量抽出→標準化→識別器訓練\n",
    "    estimator = [\n",
    "        #('select',select),\n",
    "        ('scaler',scaler),\n",
    "        ('clf',clf[1])\n",
    "    ]\n",
    "\n",
    "    pipe = Pipeline(estimator)\n",
    "    \n",
    "    # グリッドサーチ用モデルの定義\n",
    "    # 識別器の種類によってパラメータが異なるので条件分岐\n",
    "    if clf[0] == 'SVC':\n",
    "        gb_clf = GridSearchCV(pipe, svc_parameters, cv=3, n_jobs=-1)\n",
    "    elif clf[0] == 'RF':\n",
    "        gb_clf = GridSearchCV(pipe, rf_parameters, cv=3, n_jobs=-1)\n",
    "    elif clf[0].find('LR') > -1:\n",
    "        gb_clf = GridSearchCV(pipe, lr_parameters, cv=3, n_jobs=-1)\n",
    "    else:\n",
    "        gb_clf = GridSearchCV(pipe, gb_parameters, cv=3, n_jobs=-1)\n",
    "\n",
    "    # グリッドサーチ実行\n",
    "    gb_clf.fit(train_data_feature,train_data_target)\n",
    "    \n",
    "    # 最適なパラメータで訓練された識別器をリストに追加\n",
    "    gb_clfs.append(gb_clf)"
   ]
  },
  {
   "cell_type": "code",
   "execution_count": 12,
   "metadata": {},
   "outputs": [
    {
     "data": {
      "text/plain": [
       "8"
      ]
     },
     "execution_count": 12,
     "metadata": {},
     "output_type": "execute_result"
    }
   ],
   "source": [
    "len(gb_clfs)"
   ]
  },
  {
   "cell_type": "code",
   "execution_count": 13,
   "metadata": {},
   "outputs": [
    {
     "data": {
      "text/plain": [
       "array([0, 1, 1, ..., 0, 0, 0])"
      ]
     },
     "execution_count": 13,
     "metadata": {},
     "output_type": "execute_result"
    }
   ],
   "source": [
    "# 評価データを説明変数と目的変数に分割\n",
    "test_data_feature = test_data.iloc[:,:-1]\n",
    "test_data_target = test_data.iloc[:,-1]\n",
    "\n",
    "# 投票箱作成\n",
    "predict_vote=np.zeros(int(len(test_data_feature)))\n",
    "\n",
    "# 各識別器の予測結果を投票箱に入れる\n",
    "for gb_clf in gb_clfs:\n",
    "    predict_vote += (gb_clf.predict(test_data_feature))\n",
    "\n",
    "# 投票結果は多数決    \n",
    "predict_vote = (predict_vote/8 > 0.5).astype(int)\n",
    "predict_vote"
   ]
  },
  {
   "cell_type": "code",
   "execution_count": 14,
   "metadata": {},
   "outputs": [
    {
     "name": "stdout",
     "output_type": "stream",
     "text": [
      "0.53659652333\n"
     ]
    },
    {
     "data": {
      "text/plain": [
       "array([[5801, 1225],\n",
       "       [ 801, 1173]])"
      ]
     },
     "execution_count": 14,
     "metadata": {},
     "output_type": "execute_result"
    }
   ],
   "source": [
    "# F値確認\n",
    "from sklearn.metrics import confusion_matrix\n",
    "from sklearn.metrics import f1_score\n",
    "\n",
    "print(f1_score(test_data_target,predict_vote))\n",
    "confusion_matrix(test_data_target, predict_vote)"
   ]
  },
  {
   "cell_type": "code",
   "execution_count": null,
   "metadata": {},
   "outputs": [],
   "source": []
  },
  {
   "cell_type": "code",
   "execution_count": null,
   "metadata": {},
   "outputs": [],
   "source": []
  },
  {
   "cell_type": "code",
   "execution_count": null,
   "metadata": {
    "collapsed": true
   },
   "outputs": [],
   "source": []
  },
  {
   "cell_type": "code",
   "execution_count": null,
   "metadata": {},
   "outputs": [],
   "source": []
  },
  {
   "cell_type": "code",
   "execution_count": null,
   "metadata": {},
   "outputs": [],
   "source": []
  },
  {
   "cell_type": "code",
   "execution_count": null,
   "metadata": {},
   "outputs": [],
   "source": []
  },
  {
   "cell_type": "code",
   "execution_count": null,
   "metadata": {},
   "outputs": [],
   "source": []
  },
  {
   "cell_type": "code",
   "execution_count": null,
   "metadata": {
    "collapsed": true
   },
   "outputs": [],
   "source": []
  },
  {
   "cell_type": "code",
   "execution_count": null,
   "metadata": {
    "collapsed": true
   },
   "outputs": [],
   "source": []
  },
  {
   "cell_type": "code",
   "execution_count": null,
   "metadata": {
    "collapsed": true
   },
   "outputs": [],
   "source": []
  },
  {
   "cell_type": "markdown",
   "metadata": {},
   "source": [
    "<h1>単純に勾配ブースティング</h1>"
   ]
  },
  {
   "cell_type": "code",
   "execution_count": 151,
   "metadata": {},
   "outputs": [],
   "source": [
    "mono_gb = GradientBoostingClassifier(n_estimators=100, learning_rate=0.1,max_depth=1)"
   ]
  },
  {
   "cell_type": "code",
   "execution_count": null,
   "metadata": {},
   "outputs": [],
   "source": []
  },
  {
   "cell_type": "code",
   "execution_count": 103,
   "metadata": {},
   "outputs": [
    {
     "data": {
      "text/plain": [
       "7393"
      ]
     },
     "execution_count": 103,
     "metadata": {},
     "output_type": "execute_result"
    }
   ],
   "source": [
    "sum(mono_predict == test_data.iloc[:,-1])"
   ]
  },
  {
   "cell_type": "code",
   "execution_count": 152,
   "metadata": {},
   "outputs": [
    {
     "data": {
      "text/plain": [
       "GridSearchCV(cv=3, error_score='raise',\n",
       "       estimator=Pipeline(memory=None,\n",
       "     steps=[('scaler', StandardScaler(copy=True, with_mean=True, with_std=True)), ('clf', GradientBoostingClassifier(criterion='friedman_mse', init=None,\n",
       "              learning_rate=0.1, loss='deviance', max_depth=3,\n",
       "              max_features=None, max_leaf_nodes=None,\n",
       "              min_impurity_decreas...      presort='auto', random_state=None, subsample=1.0, verbose=0,\n",
       "              warm_start=False))]),\n",
       "       fit_params=None, iid=True, n_jobs=-1,\n",
       "       param_grid={'clf__learning_rate': [0.01, 0.05, 0.1], 'clf__max_depth': [3, 5], 'clf__subsample': [0.5, 1.0], 'clf__n_estimators': [10]},\n",
       "       pre_dispatch='2*n_jobs', refit=True, return_train_score='warn',\n",
       "       scoring=None, verbose=0)"
      ]
     },
     "execution_count": 152,
     "metadata": {},
     "output_type": "execute_result"
    }
   ],
   "source": [
    "select = SelectFromModel(RandomForestClassifier(n_estimators=100, n_jobs=-1))\n",
    "scaler = StandardScaler()\n",
    "estimator = [\n",
    "    #('select',select),\n",
    "    ('scaler',scaler),\n",
    "    ('clf',clf)\n",
    "]\n",
    "\n",
    "pipe = Pipeline(estimator)\n",
    "\n",
    "mono_gb_clf = GridSearchCV(pipe, gb_parameters, cv=3, n_jobs=-1)\n",
    "mono_gb_clf.fit(train_data.iloc[:,:-1],train_data.iloc[:,-1])"
   ]
  },
  {
   "cell_type": "code",
   "execution_count": 153,
   "metadata": {
    "collapsed": true
   },
   "outputs": [],
   "source": [
    "mono_predict = mono_gb_clf.predict(test_data.iloc[:,:-1])"
   ]
  },
  {
   "cell_type": "code",
   "execution_count": 154,
   "metadata": {},
   "outputs": [
    {
     "name": "stdout",
     "output_type": "stream",
     "text": [
      "0.431358637815\n"
     ]
    },
    {
     "data": {
      "text/plain": [
       "array([[6789,  236],\n",
       "       [1367,  608]])"
      ]
     },
     "execution_count": 154,
     "metadata": {},
     "output_type": "execute_result"
    }
   ],
   "source": [
    "from sklearn.metrics import confusion_matrix\n",
    "from sklearn.metrics import f1_score\n",
    "\n",
    "print(f1_score(test_data.iloc[:,-1],mono_predict))\n",
    "confusion_matrix(test_data.iloc[:,-1], mono_predict)"
   ]
  },
  {
   "cell_type": "code",
   "execution_count": null,
   "metadata": {
    "collapsed": true
   },
   "outputs": [],
   "source": []
  },
  {
   "cell_type": "code",
   "execution_count": null,
   "metadata": {
    "collapsed": true
   },
   "outputs": [],
   "source": []
  }
 ],
 "metadata": {
  "kernelspec": {
   "display_name": "Python 3",
   "language": "python",
   "name": "python3"
  },
  "language_info": {
   "codemirror_mode": {
    "name": "ipython",
    "version": 3
   },
   "file_extension": ".py",
   "mimetype": "text/x-python",
   "name": "python",
   "nbconvert_exporter": "python",
   "pygments_lexer": "ipython3",
   "version": "3.6.1"
  }
 },
 "nbformat": 4,
 "nbformat_minor": 2
}
