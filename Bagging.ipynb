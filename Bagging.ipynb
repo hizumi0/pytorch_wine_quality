{
 "cells": [
  {
   "cell_type": "markdown",
   "metadata": {},
   "source": [
    "<h1>UnderSampling + Baggingでimbalancedなデータを学習</h1>\n"
   ]
  },
  {
   "cell_type": "code",
   "execution_count": 31,
   "metadata": {
    "collapsed": true
   },
   "outputs": [],
   "source": [
    "import torch\n",
    "from torch.autograd import Variable\n",
    "import torch.nn as nn\n",
    "import torch.nn.functional as F\n",
    "import torch.optim as optim\n",
    "from torch.utils.data import DataLoader , TensorDataset\n",
    "\n",
    "from sklearn.model_selection import train_test_split\n",
    "from sklearn import svm\n",
    "from sklearn.ensemble import GradientBoostingClassifier\n",
    "from sklearn.ensemble import RandomForestClassifier\n",
    "\n",
    "import pandas as pd\n",
    "import numpy as np"
   ]
  },
  {
   "cell_type": "code",
   "execution_count": 32,
   "metadata": {},
   "outputs": [
    {
     "name": "stdout",
     "output_type": "stream",
     "text": [
      "(30000, 24)\n"
     ]
    },
    {
     "data": {
      "text/html": [
       "<div>\n",
       "<style>\n",
       "    .dataframe thead tr:only-child th {\n",
       "        text-align: right;\n",
       "    }\n",
       "\n",
       "    .dataframe thead th {\n",
       "        text-align: left;\n",
       "    }\n",
       "\n",
       "    .dataframe tbody tr th {\n",
       "        vertical-align: top;\n",
       "    }\n",
       "</style>\n",
       "<table border=\"1\" class=\"dataframe\">\n",
       "  <thead>\n",
       "    <tr style=\"text-align: right;\">\n",
       "      <th></th>\n",
       "      <th>LIMIT_BAL</th>\n",
       "      <th>SEX</th>\n",
       "      <th>EDUCATION</th>\n",
       "      <th>MARRIAGE</th>\n",
       "      <th>AGE</th>\n",
       "      <th>PAY_0</th>\n",
       "      <th>PAY_2</th>\n",
       "      <th>PAY_3</th>\n",
       "      <th>PAY_4</th>\n",
       "      <th>PAY_5</th>\n",
       "      <th>...</th>\n",
       "      <th>BILL_AMT4</th>\n",
       "      <th>BILL_AMT5</th>\n",
       "      <th>BILL_AMT6</th>\n",
       "      <th>PAY_AMT1</th>\n",
       "      <th>PAY_AMT2</th>\n",
       "      <th>PAY_AMT3</th>\n",
       "      <th>PAY_AMT4</th>\n",
       "      <th>PAY_AMT5</th>\n",
       "      <th>PAY_AMT6</th>\n",
       "      <th>default payment next month</th>\n",
       "    </tr>\n",
       "  </thead>\n",
       "  <tbody>\n",
       "    <tr>\n",
       "      <th>2402</th>\n",
       "      <td>80000</td>\n",
       "      <td>1</td>\n",
       "      <td>2</td>\n",
       "      <td>2</td>\n",
       "      <td>29</td>\n",
       "      <td>1</td>\n",
       "      <td>2</td>\n",
       "      <td>2</td>\n",
       "      <td>2</td>\n",
       "      <td>2</td>\n",
       "      <td>...</td>\n",
       "      <td>55201</td>\n",
       "      <td>69270</td>\n",
       "      <td>70582</td>\n",
       "      <td>0</td>\n",
       "      <td>5000</td>\n",
       "      <td>0</td>\n",
       "      <td>15000</td>\n",
       "      <td>2600</td>\n",
       "      <td>0</td>\n",
       "      <td>0</td>\n",
       "    </tr>\n",
       "    <tr>\n",
       "      <th>1238</th>\n",
       "      <td>120000</td>\n",
       "      <td>0</td>\n",
       "      <td>2</td>\n",
       "      <td>1</td>\n",
       "      <td>57</td>\n",
       "      <td>0</td>\n",
       "      <td>0</td>\n",
       "      <td>0</td>\n",
       "      <td>0</td>\n",
       "      <td>0</td>\n",
       "      <td>...</td>\n",
       "      <td>88557</td>\n",
       "      <td>91124</td>\n",
       "      <td>88094</td>\n",
       "      <td>5000</td>\n",
       "      <td>5007</td>\n",
       "      <td>4000</td>\n",
       "      <td>4003</td>\n",
       "      <td>4003</td>\n",
       "      <td>4000</td>\n",
       "      <td>1</td>\n",
       "    </tr>\n",
       "    <tr>\n",
       "      <th>20437</th>\n",
       "      <td>30000</td>\n",
       "      <td>0</td>\n",
       "      <td>2</td>\n",
       "      <td>2</td>\n",
       "      <td>22</td>\n",
       "      <td>3</td>\n",
       "      <td>2</td>\n",
       "      <td>2</td>\n",
       "      <td>2</td>\n",
       "      <td>2</td>\n",
       "      <td>...</td>\n",
       "      <td>27080</td>\n",
       "      <td>30525</td>\n",
       "      <td>29764</td>\n",
       "      <td>0</td>\n",
       "      <td>3200</td>\n",
       "      <td>0</td>\n",
       "      <td>3900</td>\n",
       "      <td>0</td>\n",
       "      <td>0</td>\n",
       "      <td>1</td>\n",
       "    </tr>\n",
       "    <tr>\n",
       "      <th>21490</th>\n",
       "      <td>200000</td>\n",
       "      <td>1</td>\n",
       "      <td>2</td>\n",
       "      <td>2</td>\n",
       "      <td>29</td>\n",
       "      <td>-1</td>\n",
       "      <td>0</td>\n",
       "      <td>0</td>\n",
       "      <td>0</td>\n",
       "      <td>0</td>\n",
       "      <td>...</td>\n",
       "      <td>10519</td>\n",
       "      <td>6980</td>\n",
       "      <td>8702</td>\n",
       "      <td>1500</td>\n",
       "      <td>3000</td>\n",
       "      <td>3000</td>\n",
       "      <td>1000</td>\n",
       "      <td>2000</td>\n",
       "      <td>2000</td>\n",
       "      <td>0</td>\n",
       "    </tr>\n",
       "    <tr>\n",
       "      <th>27499</th>\n",
       "      <td>20000</td>\n",
       "      <td>0</td>\n",
       "      <td>2</td>\n",
       "      <td>1</td>\n",
       "      <td>59</td>\n",
       "      <td>3</td>\n",
       "      <td>2</td>\n",
       "      <td>3</td>\n",
       "      <td>3</td>\n",
       "      <td>2</td>\n",
       "      <td>...</td>\n",
       "      <td>8208</td>\n",
       "      <td>7930</td>\n",
       "      <td>8650</td>\n",
       "      <td>2000</td>\n",
       "      <td>1000</td>\n",
       "      <td>0</td>\n",
       "      <td>0</td>\n",
       "      <td>1000</td>\n",
       "      <td>0</td>\n",
       "      <td>1</td>\n",
       "    </tr>\n",
       "  </tbody>\n",
       "</table>\n",
       "<p>5 rows × 24 columns</p>\n",
       "</div>"
      ],
      "text/plain": [
       "       LIMIT_BAL  SEX  EDUCATION  MARRIAGE  AGE  PAY_0  PAY_2  PAY_3  PAY_4  \\\n",
       "2402       80000    1          2         2   29      1      2      2      2   \n",
       "1238      120000    0          2         1   57      0      0      0      0   \n",
       "20437      30000    0          2         2   22      3      2      2      2   \n",
       "21490     200000    1          2         2   29     -1      0      0      0   \n",
       "27499      20000    0          2         1   59      3      2      3      3   \n",
       "\n",
       "       PAY_5             ...              BILL_AMT4  BILL_AMT5  BILL_AMT6  \\\n",
       "2402       2             ...                  55201      69270      70582   \n",
       "1238       0             ...                  88557      91124      88094   \n",
       "20437      2             ...                  27080      30525      29764   \n",
       "21490      0             ...                  10519       6980       8702   \n",
       "27499      2             ...                   8208       7930       8650   \n",
       "\n",
       "       PAY_AMT1  PAY_AMT2  PAY_AMT3  PAY_AMT4  PAY_AMT5  PAY_AMT6  \\\n",
       "2402          0      5000         0     15000      2600         0   \n",
       "1238       5000      5007      4000      4003      4003      4000   \n",
       "20437         0      3200         0      3900         0         0   \n",
       "21490      1500      3000      3000      1000      2000      2000   \n",
       "27499      2000      1000         0         0      1000         0   \n",
       "\n",
       "       default payment next month  \n",
       "2402                            0  \n",
       "1238                            1  \n",
       "20437                           1  \n",
       "21490                           0  \n",
       "27499                           1  \n",
       "\n",
       "[5 rows x 24 columns]"
      ]
     },
     "execution_count": 32,
     "metadata": {},
     "output_type": "execute_result"
    }
   ],
   "source": [
    "#データの読み込みとデータ処理\n",
    "data = pd.read_csv(\"./data/credit_card.csv\").drop('ID',axis=1).sample(frac=1)\n",
    "data['SEX'][data['SEX'] == 1] = 0\n",
    "data['SEX'][data['SEX'] == 2] = 1\n",
    "print(data.shape)\n",
    "data['SEX']\n",
    "data.head()"
   ]
  },
  {
   "cell_type": "code",
   "execution_count": 33,
   "metadata": {
    "scrolled": false
   },
   "outputs": [
    {
     "data": {
      "text/plain": [
       "(30000, 24)"
      ]
     },
     "execution_count": 33,
     "metadata": {},
     "output_type": "execute_result"
    }
   ],
   "source": [
    "sum(data['default payment next month'] ==1 ) / len(data)\n",
    "data.shape"
   ]
  },
  {
   "cell_type": "code",
   "execution_count": 34,
   "metadata": {},
   "outputs": [
    {
     "data": {
      "text/plain": [
       "(21000, 24)"
      ]
     },
     "execution_count": 34,
     "metadata": {},
     "output_type": "execute_result"
    }
   ],
   "source": [
    "# データを訓練データと評価データに分割\n",
    "train_data = data[:int(len(data)*0.7)]\n",
    "test_data = data[int(len(data)*0.7):]\n",
    "\n",
    "train_data.shape"
   ]
  },
  {
   "cell_type": "code",
   "execution_count": 35,
   "metadata": {},
   "outputs": [],
   "source": [
    "# 訓練データを少数クラスのデータと多数クラスに分割\n",
    "train_data_1 = train_data[train_data['default payment next month'] == 1]\n",
    "train_data_0 = train_data[train_data['default payment next month'] == 0]"
   ]
  },
  {
   "cell_type": "code",
   "execution_count": 100,
   "metadata": {},
   "outputs": [
    {
     "data": {
      "text/plain": [
       "0.21866666666666668"
      ]
     },
     "execution_count": 100,
     "metadata": {},
     "output_type": "execute_result"
    }
   ],
   "source": [
    "# default payment next monthが 1 なのは全体の1/5くらい\n",
    "len(train_data_1)/len(train_data)"
   ]
  },
  {
   "cell_type": "markdown",
   "metadata": {},
   "source": [
    "<h2>ニューラルネットワークモデル定義</h2>\n",
    "<h4>GridSearchCVとかPipelineが便利なので、sklearnのBaseEstimatorを継承しました</h4>"
   ]
  },
  {
   "cell_type": "code",
   "execution_count": 97,
   "metadata": {
    "collapsed": true
   },
   "outputs": [],
   "source": [
    "from sklearn.base import BaseEstimator\n",
    "from sklearn.base import BaseEstimator, ClassifierMixin\n",
    "\n",
    "INPUT_COLUMNS = len(train_data_feature[0])\n",
    "hidden_layer = INPUT_COLUMNS\n",
    "OUTPUT_SIZE=2\n",
    "\n",
    "class skNN(BaseEstimator,nn.Module,ClassifierMixin):\n",
    "    def __init__(self, input_layer=len(train_data_feature[0]),hidden_layer=20,lr=0.01):\n",
    "        self.input_layer = input_layer\n",
    "        self.hidden_layer = hidden_layer\n",
    "        self.lr = lr\n",
    "        \n",
    "        super(skNN, self).__init__()\n",
    "        self.fc1 = nn.Linear(self.input_layer,self.hidden_layer)\n",
    "        self.fc2 = nn.Linear(self.hidden_layer,self.hidden_layer)\n",
    "        self.fc3 = nn.Linear(self.hidden_layer,OUTPUT_SIZE)\n",
    "        self.outact = nn.Softmax()\n",
    "        \n",
    "        self.criterion = nn.CrossEntropyLoss()\n",
    "        self.optimizer = optim.Adam(self.parameters(),lr=self.lr)\n",
    "    \n",
    "    def forward(self, x):\n",
    "        x = F.relu(self.fc1(x))\n",
    "        x = F.relu(self.fc2(x))\n",
    "        x = self.fc3(x)\n",
    "        return self.outact(x)\n",
    "        \n",
    "    def fit(self, X, y=None, **params):\n",
    "        self.input_layer = len(X[0])\n",
    "        self.fc1 = nn.Linear(self.input_layer,self.hidden_layer)\n",
    "        \n",
    "        tensorX = torch.from_numpy(X).float()\n",
    "        tensorY = torch.from_numpy(y).long()\n",
    "        train = TensorDataset(tensorX,tensorY)\n",
    "        train_loader = DataLoader(train, batch_size=32, shuffle=True)\n",
    "\n",
    "        for epoch in range(int(len(X)/32)):\n",
    "            total_loss = 0    \n",
    "            for train_x, train_y in train_loader:\n",
    "                train_x, train_y = Variable(train_x), Variable(train_y)\n",
    "                self.optimizer.zero_grad()\n",
    "                output = self(train_x)\n",
    "                loss = self.criterion(output, train_y)\n",
    "                loss.backward()\n",
    "                self.optimizer.step()\n",
    "                total_loss += loss.data[0]\n",
    "            \n",
    "            if (epoch+1) % 50 == 0:\n",
    "                print(epoch+1, total_loss)\n",
    "        return self\n",
    "    \n",
    "    def predict(self, X):\n",
    "        tensorX = torch.from_numpy(X).float()\n",
    "        test_X = Variable(tensorX)\n",
    "        return (self(test_X).data[:,1].numpy() > 0.5).astype(int)\n",
    "    \n",
    "    def predict_proba(self, X):\n",
    "        tensorX = torch.from_numpy(X).float()\n",
    "        test_X = Variable(tensorX)\n",
    "        return self(test_X).data[:,1].numpy()\n",
    "    \n",
    "    def score(self,X,y):\n",
    "        tensorX = torch.from_numpy(X).float()\n",
    "        test_X = Variable(tensorX)\n",
    "        return sum( (self(test_X).data[:,1].numpy() > 0.5).astype(int) == y )/ len(y)\n",
    "    \n",
    "    def get_params(self,deep=True):\n",
    "        return {'hidden_layer': self.hidden_layer, 'lr': self.lr}\n",
    "    \n",
    "    def set_params(self,**params):\n",
    "        for parameter, value in params.items():\n",
    "            setattr(self,parameter, value)\n",
    "        self.fc1 = nn.Linear(self.input_layer,self.hidden_layer)\n",
    "        self.fc2 = nn.Linear(self.hidden_layer,self.hidden_layer)\n",
    "        self.fc3 = nn.Linear(self.hidden_layer,OUTPUT_SIZE)\n",
    "        self.optimizer = optim.Adam(self.parameters(),lr=self.lr)\n",
    "        return self\n",
    "        "
   ]
  },
  {
   "cell_type": "code",
   "execution_count": null,
   "metadata": {
    "collapsed": true
   },
   "outputs": [],
   "source": []
  },
  {
   "cell_type": "code",
   "execution_count": null,
   "metadata": {
    "collapsed": true
   },
   "outputs": [],
   "source": []
  },
  {
   "cell_type": "markdown",
   "metadata": {},
   "source": [
    "<h2>学習実行</h2>\n",
    "<h4>折角なので色んな種類の識別器を使ってみます。それぞれでグリッドサーチし、最適なパラメータを探索しています</h4>"
   ]
  },
  {
   "cell_type": "code",
   "execution_count": 89,
   "metadata": {},
   "outputs": [],
   "source": [
    "# 識別器の定義\n",
    "from sklearn.linear_model import LogisticRegression\n",
    "from sklearn import svm\n",
    "clfs = {\"GB1\":GradientBoostingClassifier(),\n",
    "        \"GB2\":GradientBoostingClassifier(),\n",
    "        \"GB3\":GradientBoostingClassifier(),\n",
    "        \"GB4\":GradientBoostingClassifier(),\n",
    "        \"NN\":skNN(),\n",
    "        \"LR1\":LogisticRegression(),\n",
    "        \"LR2\":LogisticRegression(),\n",
    "        \"SVC\":svm.SVC()\n",
    "       }"
   ]
  },
  {
   "cell_type": "code",
   "execution_count": null,
   "metadata": {
    "collapsed": true
   },
   "outputs": [],
   "source": []
  },
  {
   "cell_type": "code",
   "execution_count": null,
   "metadata": {
    "collapsed": true
   },
   "outputs": [],
   "source": []
  },
  {
   "cell_type": "code",
   "execution_count": 90,
   "metadata": {},
   "outputs": [
    {
     "name": "stdout",
     "output_type": "stream",
     "text": [
      "(9184, 23)\n",
      "(9184,)\n"
     ]
    }
   ],
   "source": [
    "# 訓練データを説明変数、目的変数に分割\n",
    "train_data_ = np.vstack((train_data_0.sample(n=int(len(train_data_1))),train_data_1))\n",
    "train_data_feature = train_data_[:,:-1]\n",
    "train_data_target = train_data_[:,-1]\n",
    "print(train_data_feature.shape)\n",
    "print(train_data_target.shape)"
   ]
  },
  {
   "cell_type": "code",
   "execution_count": 91,
   "metadata": {
    "scrolled": true
   },
   "outputs": [],
   "source": [
    "# 各Estimatorのパラメータ探索用dict\n",
    "gb_parameters = {\n",
    "    \"clf__learning_rate\": [0.01, 0.05, 0.1],\n",
    "    \"clf__max_depth\":[3,5],\n",
    "    \"clf__subsample\":[0.5, 1.0],\n",
    "    \"clf__n_estimators\":[10]\n",
    "}\n",
    "rf_parameters = {\n",
    "    \"clf__n_estimators\" : [100],\n",
    "    \"clf__max_features\" : [1, 'auto', None],\n",
    "    \"clf__max_depth\" : [1, 5, 10, None],\n",
    "    \"clf__min_samples_leaf\": [1, 2, 4,]\n",
    "}\n",
    "lr_parameters = {\n",
    "    \"clf__C\": [0.01,0.1,1]\n",
    "}\n",
    "svc_parameters = {\n",
    "    \"clf__C\": [0.01,0.1,1,10,100],\n",
    "    \"clf__gamma\": [0.01,0.1,1,10,100]\n",
    "}\n",
    "nn_parameters = {\n",
    "    'clf__hidden_layer': [30,40,50,60],\n",
    "    'clf__lr': [0.01,0.05],\n",
    "}"
   ]
  },
  {
   "cell_type": "code",
   "execution_count": 92,
   "metadata": {},
   "outputs": [
    {
     "data": {
      "text/plain": [
       "dtype('int64')"
      ]
     },
     "execution_count": 92,
     "metadata": {},
     "output_type": "execute_result"
    }
   ],
   "source": [
    "train_data_feature.dtype"
   ]
  },
  {
   "cell_type": "code",
   "execution_count": 93,
   "metadata": {
    "scrolled": true
   },
   "outputs": [
    {
     "name": "stdout",
     "output_type": "stream",
     "text": [
      "1\n",
      "2\n",
      "3\n",
      "4\n",
      "5\n"
     ]
    },
    {
     "name": "stderr",
     "output_type": "stream",
     "text": [
      "/Users/GenseiYoshimura/anaconda/lib/python3.6/site-packages/ipykernel_launcher.py:27: UserWarning: Implicit dimension choice for softmax has been deprecated. Change the call to include dim=X as an argument.\n",
      "/Users/GenseiYoshimura/anaconda/lib/python3.6/site-packages/ipykernel_launcher.py:27: UserWarning: Implicit dimension choice for softmax has been deprecated. Change the call to include dim=X as an argument.\n",
      "/Users/GenseiYoshimura/anaconda/lib/python3.6/site-packages/ipykernel_launcher.py:47: UserWarning: invalid index of a 0-dim tensor. This will be an error in PyTorch 0.5. Use tensor.item() to convert a 0-dim tensor to a Python number\n",
      "/Users/GenseiYoshimura/anaconda/lib/python3.6/site-packages/ipykernel_launcher.py:27: UserWarning: Implicit dimension choice for softmax has been deprecated. Change the call to include dim=X as an argument.\n",
      "/Users/GenseiYoshimura/anaconda/lib/python3.6/site-packages/ipykernel_launcher.py:27: UserWarning: Implicit dimension choice for softmax has been deprecated. Change the call to include dim=X as an argument.\n",
      "/Users/GenseiYoshimura/anaconda/lib/python3.6/site-packages/ipykernel_launcher.py:47: UserWarning: invalid index of a 0-dim tensor. This will be an error in PyTorch 0.5. Use tensor.item() to convert a 0-dim tensor to a Python number\n",
      "/Users/GenseiYoshimura/anaconda/lib/python3.6/site-packages/ipykernel_launcher.py:47: UserWarning: invalid index of a 0-dim tensor. This will be an error in PyTorch 0.5. Use tensor.item() to convert a 0-dim tensor to a Python number\n",
      "/Users/GenseiYoshimura/anaconda/lib/python3.6/site-packages/ipykernel_launcher.py:47: UserWarning: invalid index of a 0-dim tensor. This will be an error in PyTorch 0.5. Use tensor.item() to convert a 0-dim tensor to a Python number\n"
     ]
    },
    {
     "name": "stdout",
     "output_type": "stream",
     "text": [
      "50 tensor(106.8680)\n",
      "50 tensor(106.9900)\n",
      "50 tensor(104.9529)\n",
      "50 tensor(114.5744)\n",
      "100 tensor(103.5048)\n",
      "100 tensor(102.4545)\n",
      "100 tensor(101.0104)\n",
      "100 tensor(114.0480)\n",
      "150 tensor(100.7757)\n",
      "150 tensor(101.3939)\n",
      "150 tensor(98.4460)\n",
      "150 tensor(114.3346)\n"
     ]
    },
    {
     "name": "stderr",
     "output_type": "stream",
     "text": [
      "/Users/GenseiYoshimura/anaconda/lib/python3.6/site-packages/ipykernel_launcher.py:27: UserWarning: Implicit dimension choice for softmax has been deprecated. Change the call to include dim=X as an argument.\n",
      "/Users/GenseiYoshimura/anaconda/lib/python3.6/site-packages/ipykernel_launcher.py:47: UserWarning: invalid index of a 0-dim tensor. This will be an error in PyTorch 0.5. Use tensor.item() to convert a 0-dim tensor to a Python number\n",
      "/Users/GenseiYoshimura/anaconda/lib/python3.6/site-packages/ipykernel_launcher.py:27: UserWarning: Implicit dimension choice for softmax has been deprecated. Change the call to include dim=X as an argument.\n",
      "/Users/GenseiYoshimura/anaconda/lib/python3.6/site-packages/ipykernel_launcher.py:47: UserWarning: invalid index of a 0-dim tensor. This will be an error in PyTorch 0.5. Use tensor.item() to convert a 0-dim tensor to a Python number\n",
      "/Users/GenseiYoshimura/anaconda/lib/python3.6/site-packages/ipykernel_launcher.py:27: UserWarning: Implicit dimension choice for softmax has been deprecated. Change the call to include dim=X as an argument.\n",
      "/Users/GenseiYoshimura/anaconda/lib/python3.6/site-packages/ipykernel_launcher.py:47: UserWarning: invalid index of a 0-dim tensor. This will be an error in PyTorch 0.5. Use tensor.item() to convert a 0-dim tensor to a Python number\n",
      "/Users/GenseiYoshimura/anaconda/lib/python3.6/site-packages/ipykernel_launcher.py:27: UserWarning: Implicit dimension choice for softmax has been deprecated. Change the call to include dim=X as an argument.\n",
      "/Users/GenseiYoshimura/anaconda/lib/python3.6/site-packages/ipykernel_launcher.py:47: UserWarning: invalid index of a 0-dim tensor. This will be an error in PyTorch 0.5. Use tensor.item() to convert a 0-dim tensor to a Python number\n"
     ]
    },
    {
     "name": "stdout",
     "output_type": "stream",
     "text": [
      "50 tensor(112.4436)\n",
      "50 tensor(112.5505)\n",
      "50 tensor(104.2488)\n",
      "50 tensor(102.1906)\n",
      "100 tensor(113.5997)\n",
      "100 tensor(111.3532)\n",
      "100 tensor(99.6503)\n",
      "100 tensor(97.8627)\n",
      "150 tensor(111.0628)\n",
      "150 tensor(98.0733)\n",
      "150 tensor(110.8978)\n",
      "150 tensor(95.0773)\n"
     ]
    },
    {
     "name": "stderr",
     "output_type": "stream",
     "text": [
      "/Users/GenseiYoshimura/anaconda/lib/python3.6/site-packages/ipykernel_launcher.py:27: UserWarning: Implicit dimension choice for softmax has been deprecated. Change the call to include dim=X as an argument.\n",
      "/Users/GenseiYoshimura/anaconda/lib/python3.6/site-packages/ipykernel_launcher.py:47: UserWarning: invalid index of a 0-dim tensor. This will be an error in PyTorch 0.5. Use tensor.item() to convert a 0-dim tensor to a Python number\n",
      "/Users/GenseiYoshimura/anaconda/lib/python3.6/site-packages/ipykernel_launcher.py:27: UserWarning: Implicit dimension choice for softmax has been deprecated. Change the call to include dim=X as an argument.\n",
      "/Users/GenseiYoshimura/anaconda/lib/python3.6/site-packages/ipykernel_launcher.py:47: UserWarning: invalid index of a 0-dim tensor. This will be an error in PyTorch 0.5. Use tensor.item() to convert a 0-dim tensor to a Python number\n",
      "/Users/GenseiYoshimura/anaconda/lib/python3.6/site-packages/ipykernel_launcher.py:27: UserWarning: Implicit dimension choice for softmax has been deprecated. Change the call to include dim=X as an argument.\n",
      "/Users/GenseiYoshimura/anaconda/lib/python3.6/site-packages/ipykernel_launcher.py:47: UserWarning: invalid index of a 0-dim tensor. This will be an error in PyTorch 0.5. Use tensor.item() to convert a 0-dim tensor to a Python number\n",
      "/Users/GenseiYoshimura/anaconda/lib/python3.6/site-packages/ipykernel_launcher.py:27: UserWarning: Implicit dimension choice for softmax has been deprecated. Change the call to include dim=X as an argument.\n",
      "/Users/GenseiYoshimura/anaconda/lib/python3.6/site-packages/ipykernel_launcher.py:47: UserWarning: invalid index of a 0-dim tensor. This will be an error in PyTorch 0.5. Use tensor.item() to convert a 0-dim tensor to a Python number\n"
     ]
    },
    {
     "name": "stdout",
     "output_type": "stream",
     "text": [
      "50 tensor(105.6742)\n",
      "50 tensor(112.9785)\n",
      "50 tensor(112.0818)\n",
      "50 tensor(114.8684)\n",
      "100 tensor(102.8164)\n",
      "100 tensor(113.1351)\n",
      "100 tensor(110.1609)\n",
      "100 tensor(114.5350)\n",
      "150 tensor(100.4826)\n",
      "150 tensor(111.8961)\n",
      "150 tensor(110.5884)\n",
      "150 tensor(114.6511)\n"
     ]
    },
    {
     "name": "stderr",
     "output_type": "stream",
     "text": [
      "/Users/GenseiYoshimura/anaconda/lib/python3.6/site-packages/ipykernel_launcher.py:27: UserWarning: Implicit dimension choice for softmax has been deprecated. Change the call to include dim=X as an argument.\n",
      "/Users/GenseiYoshimura/anaconda/lib/python3.6/site-packages/ipykernel_launcher.py:47: UserWarning: invalid index of a 0-dim tensor. This will be an error in PyTorch 0.5. Use tensor.item() to convert a 0-dim tensor to a Python number\n",
      "/Users/GenseiYoshimura/anaconda/lib/python3.6/site-packages/ipykernel_launcher.py:27: UserWarning: Implicit dimension choice for softmax has been deprecated. Change the call to include dim=X as an argument.\n",
      "/Users/GenseiYoshimura/anaconda/lib/python3.6/site-packages/ipykernel_launcher.py:47: UserWarning: invalid index of a 0-dim tensor. This will be an error in PyTorch 0.5. Use tensor.item() to convert a 0-dim tensor to a Python number\n",
      "/Users/GenseiYoshimura/anaconda/lib/python3.6/site-packages/ipykernel_launcher.py:27: UserWarning: Implicit dimension choice for softmax has been deprecated. Change the call to include dim=X as an argument.\n",
      "/Users/GenseiYoshimura/anaconda/lib/python3.6/site-packages/ipykernel_launcher.py:47: UserWarning: invalid index of a 0-dim tensor. This will be an error in PyTorch 0.5. Use tensor.item() to convert a 0-dim tensor to a Python number\n",
      "/Users/GenseiYoshimura/anaconda/lib/python3.6/site-packages/ipykernel_launcher.py:27: UserWarning: Implicit dimension choice for softmax has been deprecated. Change the call to include dim=X as an argument.\n",
      "/Users/GenseiYoshimura/anaconda/lib/python3.6/site-packages/ipykernel_launcher.py:47: UserWarning: invalid index of a 0-dim tensor. This will be an error in PyTorch 0.5. Use tensor.item() to convert a 0-dim tensor to a Python number\n"
     ]
    },
    {
     "name": "stdout",
     "output_type": "stream",
     "text": [
      "50 tensor(103.9020)\n",
      "50 tensor(103.9841)\n",
      "50 tensor(102.8355)\n",
      "50 tensor(114.7812)\n",
      "100 tensor(100.1103)\n",
      "100 tensor(98.7452)\n",
      "100 tensor(98.3209)\n",
      "100 tensor(112.6042)\n",
      "150 tensor(97.3260)\n",
      "150 tensor(96.0988)\n",
      "150 tensor(96.3484)\n",
      "150 tensor(112.0269)\n"
     ]
    },
    {
     "name": "stderr",
     "output_type": "stream",
     "text": [
      "/Users/GenseiYoshimura/anaconda/lib/python3.6/site-packages/ipykernel_launcher.py:27: UserWarning: Implicit dimension choice for softmax has been deprecated. Change the call to include dim=X as an argument.\n",
      "/Users/GenseiYoshimura/anaconda/lib/python3.6/site-packages/ipykernel_launcher.py:47: UserWarning: invalid index of a 0-dim tensor. This will be an error in PyTorch 0.5. Use tensor.item() to convert a 0-dim tensor to a Python number\n",
      "/Users/GenseiYoshimura/anaconda/lib/python3.6/site-packages/ipykernel_launcher.py:27: UserWarning: Implicit dimension choice for softmax has been deprecated. Change the call to include dim=X as an argument.\n",
      "/Users/GenseiYoshimura/anaconda/lib/python3.6/site-packages/ipykernel_launcher.py:47: UserWarning: invalid index of a 0-dim tensor. This will be an error in PyTorch 0.5. Use tensor.item() to convert a 0-dim tensor to a Python number\n",
      "/Users/GenseiYoshimura/anaconda/lib/python3.6/site-packages/ipykernel_launcher.py:27: UserWarning: Implicit dimension choice for softmax has been deprecated. Change the call to include dim=X as an argument.\n",
      "/Users/GenseiYoshimura/anaconda/lib/python3.6/site-packages/ipykernel_launcher.py:47: UserWarning: invalid index of a 0-dim tensor. This will be an error in PyTorch 0.5. Use tensor.item() to convert a 0-dim tensor to a Python number\n",
      "/Users/GenseiYoshimura/anaconda/lib/python3.6/site-packages/ipykernel_launcher.py:27: UserWarning: Implicit dimension choice for softmax has been deprecated. Change the call to include dim=X as an argument.\n",
      "/Users/GenseiYoshimura/anaconda/lib/python3.6/site-packages/ipykernel_launcher.py:47: UserWarning: invalid index of a 0-dim tensor. This will be an error in PyTorch 0.5. Use tensor.item() to convert a 0-dim tensor to a Python number\n"
     ]
    },
    {
     "name": "stdout",
     "output_type": "stream",
     "text": [
      "50 tensor(113.1787)\n",
      "50 tensor(112.9205)\n",
      "50 tensor(102.2000)\n",
      "50 tensor(101.0792)\n",
      "100 tensor(111.1780)\n",
      "100 tensor(114.4659)\n",
      "100 tensor(97.1933)\n",
      "100 tensor(97.0783)\n",
      "150 tensor(110.0193)\n",
      "150 tensor(112.3461)\n",
      "150 tensor(94.9104)\n"
     ]
    },
    {
     "name": "stderr",
     "output_type": "stream",
     "text": [
      "/Users/GenseiYoshimura/anaconda/lib/python3.6/site-packages/ipykernel_launcher.py:27: UserWarning: Implicit dimension choice for softmax has been deprecated. Change the call to include dim=X as an argument.\n",
      "/Users/GenseiYoshimura/anaconda/lib/python3.6/site-packages/ipykernel_launcher.py:47: UserWarning: invalid index of a 0-dim tensor. This will be an error in PyTorch 0.5. Use tensor.item() to convert a 0-dim tensor to a Python number\n"
     ]
    },
    {
     "name": "stdout",
     "output_type": "stream",
     "text": [
      "150 tensor(96.0246)\n"
     ]
    },
    {
     "name": "stderr",
     "output_type": "stream",
     "text": [
      "/Users/GenseiYoshimura/anaconda/lib/python3.6/site-packages/ipykernel_launcher.py:27: UserWarning: Implicit dimension choice for softmax has been deprecated. Change the call to include dim=X as an argument.\n",
      "/Users/GenseiYoshimura/anaconda/lib/python3.6/site-packages/ipykernel_launcher.py:47: UserWarning: invalid index of a 0-dim tensor. This will be an error in PyTorch 0.5. Use tensor.item() to convert a 0-dim tensor to a Python number\n",
      "/Users/GenseiYoshimura/anaconda/lib/python3.6/site-packages/ipykernel_launcher.py:27: UserWarning: Implicit dimension choice for softmax has been deprecated. Change the call to include dim=X as an argument.\n",
      "/Users/GenseiYoshimura/anaconda/lib/python3.6/site-packages/ipykernel_launcher.py:47: UserWarning: invalid index of a 0-dim tensor. This will be an error in PyTorch 0.5. Use tensor.item() to convert a 0-dim tensor to a Python number\n",
      "/Users/GenseiYoshimura/anaconda/lib/python3.6/site-packages/ipykernel_launcher.py:27: UserWarning: Implicit dimension choice for softmax has been deprecated. Change the call to include dim=X as an argument.\n",
      "/Users/GenseiYoshimura/anaconda/lib/python3.6/site-packages/ipykernel_launcher.py:47: UserWarning: invalid index of a 0-dim tensor. This will be an error in PyTorch 0.5. Use tensor.item() to convert a 0-dim tensor to a Python number\n"
     ]
    },
    {
     "name": "stdout",
     "output_type": "stream",
     "text": [
      "50 tensor(101.8299)\n",
      "50 tensor(113.3773)\n",
      "50 tensor(111.2746)\n",
      "50 tensor(121.6938)\n",
      "100 tensor(97.7106)\n",
      "100 tensor(113.7258)\n",
      "100 tensor(109.4721)\n",
      "100 tensor(118.7504)\n",
      "150 tensor(93.6314)\n",
      "150 tensor(113.4941)\n",
      "150 tensor(110.6812)\n",
      "150 tensor(121.7080)\n"
     ]
    },
    {
     "name": "stderr",
     "output_type": "stream",
     "text": [
      "/Users/GenseiYoshimura/anaconda/lib/python3.6/site-packages/ipykernel_launcher.py:27: UserWarning: Implicit dimension choice for softmax has been deprecated. Change the call to include dim=X as an argument.\n",
      "/Users/GenseiYoshimura/anaconda/lib/python3.6/site-packages/ipykernel_launcher.py:47: UserWarning: invalid index of a 0-dim tensor. This will be an error in PyTorch 0.5. Use tensor.item() to convert a 0-dim tensor to a Python number\n"
     ]
    },
    {
     "name": "stdout",
     "output_type": "stream",
     "text": [
      "50 tensor(157.1936)\n",
      "100 tensor(152.2244)\n",
      "150 tensor(148.2690)\n",
      "200 tensor(148.6673)\n",
      "250 tensor(147.2703)\n",
      "6\n",
      "7\n",
      "8\n"
     ]
    }
   ],
   "source": [
    "from sklearn.feature_selection import SelectFromModel\n",
    "from sklearn.preprocessing import StandardScaler\n",
    "from sklearn.model_selection import GridSearchCV\n",
    "from sklearn.pipeline import Pipeline\n",
    "i=0\n",
    "\n",
    "# 識別器格納用リスト\n",
    "# 8種類の識別器が格納される\n",
    "gb_clfs = []\n",
    "\n",
    "# 各識別器に対して学習実行\n",
    "for clf in clfs.items():\n",
    "    i += 1\n",
    "    print(i) \n",
    "    \n",
    "    # 多数データを少数データの数だけUnderSamplingし、少数データとマージ\n",
    "    train_data_ = np.vstack((train_data_0.sample(n=int(len(train_data_1))),train_data_1))\n",
    "    # マージ後の訓練データをシャッフル\n",
    "    np.random.shuffle(train_data_)\n",
    "    # 訓練データを説明変数と目的変数に分割\n",
    "    train_data_feature = train_data_[:,:-1].astype(float)\n",
    "    train_data_target = train_data_[:,-1].astype(float)\n",
    "    \n",
    "    # 説明変数(特徴量)抽出モデルと標準化モデルを定義\n",
    "    select = SelectFromModel(RandomForestClassifier(n_estimators=100, n_jobs=-1))\n",
    "    scaler = StandardScaler()\n",
    "    \n",
    "    # 一連の処理(Pipeline)を定義\n",
    "    # 特徴量抽出→標準化→識別器訓練\n",
    "    estimator = [\n",
    "        #('select',select),\n",
    "        ('scaler',scaler),\n",
    "        ('clf',clf[1])\n",
    "    ]\n",
    "\n",
    "    pipe = Pipeline(estimator)\n",
    "    \n",
    "    # グリッドサーチ用モデルの定義\n",
    "    # 識別器の種類によってパラメータが異なるので条件分岐\n",
    "    if clf[0] == 'SVC':\n",
    "        gb_clf = GridSearchCV(pipe, svc_parameters, scoring='f1', cv=3, n_jobs=-1)\n",
    "    elif clf[0] == 'RF':\n",
    "        gb_clf = GridSearchCV(pipe, rf_parameters, scoring='f1', cv=3, n_jobs=-1)\n",
    "    elif clf[0] =='NN':\n",
    "        gb_clf = GridSearchCV(pipe, nn_parameters, scoring='f1', cv=3, n_jobs=-1)\n",
    "    elif clf[0].find('LR') > -1:\n",
    "        gb_clf = GridSearchCV(pipe, lr_parameters, scoring='f1', cv=3, n_jobs=-1)\n",
    "    else:\n",
    "        gb_clf = GridSearchCV(pipe, gb_parameters, scoring='f1', cv=3, n_jobs=-1)\n",
    "\n",
    "    # グリッドサーチ実行\n",
    "    gb_clf.fit(train_data_feature,train_data_target)\n",
    "    \n",
    "    # 最適なパラメータで訓練された識別器をリストに追加\n",
    "    gb_clfs.append(gb_clf)"
   ]
  },
  {
   "cell_type": "markdown",
   "metadata": {},
   "source": [
    "<h2>評価</h2>"
   ]
  },
  {
   "cell_type": "code",
   "execution_count": 95,
   "metadata": {},
   "outputs": [
    {
     "name": "stderr",
     "output_type": "stream",
     "text": [
      "/Users/GenseiYoshimura/anaconda/lib/python3.6/site-packages/ipykernel_launcher.py:27: UserWarning: Implicit dimension choice for softmax has been deprecated. Change the call to include dim=X as an argument.\n"
     ]
    },
    {
     "data": {
      "text/plain": [
       "array([1, 1, 0, ..., 0, 0, 1])"
      ]
     },
     "execution_count": 95,
     "metadata": {},
     "output_type": "execute_result"
    }
   ],
   "source": [
    "# 評価データを説明変数と目的変数に分割\n",
    "test_data_feature = test_data.iloc[:,:-1]\n",
    "test_data_target = test_data.iloc[:,-1]\n",
    "\n",
    "# 投票箱作成\n",
    "predict_vote=np.zeros(int(len(test_data_feature)))\n",
    "\n",
    "# 各識別器の予測結果を投票箱に入れる\n",
    "for gb_clf in gb_clfs:\n",
    "    predict_vote += (gb_clf.predict(test_data_feature))\n",
    "\n",
    "# 投票結果は多数決    \n",
    "predict_vote = (predict_vote/8 > 0.5).astype(int)\n",
    "predict_vote"
   ]
  },
  {
   "cell_type": "code",
   "execution_count": 96,
   "metadata": {},
   "outputs": [
    {
     "name": "stdout",
     "output_type": "stream",
     "text": [
      "0.543754175017\n"
     ]
    },
    {
     "data": {
      "text/plain": [
       "array([[5730, 1226],\n",
       "       [ 823, 1221]])"
      ]
     },
     "execution_count": 96,
     "metadata": {},
     "output_type": "execute_result"
    }
   ],
   "source": [
    "# F値確認\n",
    "from sklearn.metrics import confusion_matrix\n",
    "from sklearn.metrics import f1_score\n",
    "\n",
    "print(f1_score(test_data_target,predict_vote))\n",
    "confusion_matrix(test_data_target, predict_vote)"
   ]
  },
  {
   "cell_type": "code",
   "execution_count": null,
   "metadata": {},
   "outputs": [],
   "source": []
  },
  {
   "cell_type": "code",
   "execution_count": null,
   "metadata": {
    "collapsed": true
   },
   "outputs": [],
   "source": []
  },
  {
   "cell_type": "code",
   "execution_count": null,
   "metadata": {
    "collapsed": true
   },
   "outputs": [],
   "source": []
  },
  {
   "cell_type": "markdown",
   "metadata": {},
   "source": [
    "<h2>単純に勾配ブースティング</h2>\n",
    "<h4>以下、比較のため単体での学習・評価を実行</h4>"
   ]
  },
  {
   "cell_type": "code",
   "execution_count": 114,
   "metadata": {
    "collapsed": true
   },
   "outputs": [],
   "source": [
    "train_data_ = np.vstack((train_data_0.sample(n=int(len(train_data_1))),train_data_1))\n",
    "# マージ後の訓練データをシャッフル\n",
    "np.random.shuffle(train_data_)\n",
    "# 訓練データを説明変数と目的変数に分割\n",
    "train_data_feature = train_data_[:,:-1].astype(float)\n",
    "train_data_target = train_data_[:,-1].astype(float)"
   ]
  },
  {
   "cell_type": "code",
   "execution_count": 115,
   "metadata": {},
   "outputs": [],
   "source": [
    "mono_gb = GradientBoostingClassifier()"
   ]
  },
  {
   "cell_type": "code",
   "execution_count": 116,
   "metadata": {},
   "outputs": [
    {
     "data": {
      "text/plain": [
       "GridSearchCV(cv=3, error_score='raise',\n",
       "       estimator=Pipeline(memory=None,\n",
       "     steps=[('scaler', StandardScaler(copy=True, with_mean=True, with_std=True)), ('clf', GradientBoostingClassifier(criterion='friedman_mse', init=None,\n",
       "              learning_rate=0.1, loss='deviance', max_depth=3,\n",
       "              max_features=None, max_leaf_nodes=None,\n",
       "              min_impurity_decreas...      presort='auto', random_state=None, subsample=1.0, verbose=0,\n",
       "              warm_start=False))]),\n",
       "       fit_params=None, iid=True, n_jobs=-1,\n",
       "       param_grid={'clf__learning_rate': [0.01, 0.05, 0.1], 'clf__max_depth': [3, 5], 'clf__subsample': [0.5, 1.0], 'clf__n_estimators': [10]},\n",
       "       pre_dispatch='2*n_jobs', refit=True, return_train_score='warn',\n",
       "       scoring=None, verbose=0)"
      ]
     },
     "execution_count": 116,
     "metadata": {},
     "output_type": "execute_result"
    }
   ],
   "source": [
    "select = SelectFromModel(RandomForestClassifier(n_estimators=100, n_jobs=-1))\n",
    "scaler = StandardScaler()\n",
    "estimator = [\n",
    "    #('select',select),\n",
    "    ('scaler',scaler),\n",
    "    ('clf',mono_gb)\n",
    "]\n",
    "\n",
    "pipe = Pipeline(estimator)\n",
    "\n",
    "mono_gb_clf = GridSearchCV(pipe, gb_parameters, cv=3, n_jobs=-1)\n",
    "mono_gb_clf.fit(train_data_feature,train_data_target)"
   ]
  },
  {
   "cell_type": "code",
   "execution_count": 117,
   "metadata": {},
   "outputs": [],
   "source": [
    "mono_gb_predict = mono_gb_clf.predict(test_data_feature)"
   ]
  },
  {
   "cell_type": "code",
   "execution_count": 118,
   "metadata": {},
   "outputs": [
    {
     "name": "stdout",
     "output_type": "stream",
     "text": [
      "0.536616702355\n"
     ]
    },
    {
     "data": {
      "text/plain": [
       "array([[5583, 1373],\n",
       "       [ 791, 1253]])"
      ]
     },
     "execution_count": 118,
     "metadata": {},
     "output_type": "execute_result"
    }
   ],
   "source": [
    "from sklearn.metrics import confusion_matrix\n",
    "from sklearn.metrics import f1_score\n",
    "\n",
    "print(f1_score(test_data.iloc[:,-1],mono_gb_predict))\n",
    "confusion_matrix(test_data.iloc[:,-1], mono_gb_predict)"
   ]
  },
  {
   "cell_type": "code",
   "execution_count": null,
   "metadata": {},
   "outputs": [],
   "source": []
  },
  {
   "cell_type": "code",
   "execution_count": null,
   "metadata": {
    "collapsed": true
   },
   "outputs": [],
   "source": []
  },
  {
   "cell_type": "markdown",
   "metadata": {},
   "source": [
    "<h2>単純にニューラルネットワーク</h2>"
   ]
  },
  {
   "cell_type": "code",
   "execution_count": 87,
   "metadata": {},
   "outputs": [],
   "source": [
    "model=skNN(hidden_layer=30,lr=0.01)"
   ]
  },
  {
   "cell_type": "code",
   "execution_count": 71,
   "metadata": {
    "collapsed": true
   },
   "outputs": [],
   "source": [
    "model=skNN(hidden_layer=30,lr=0.1)\n",
    "select = SelectFromModel(RandomForestClassifier(n_estimators=100, n_jobs=-1))\n",
    "scaler = StandardScaler()\n",
    "estimator = [\n",
    "    #('select',select),\n",
    "    ('scaler',scaler),\n",
    "    ('clf',model)\n",
    "]\n",
    "\n",
    "pipe = Pipeline(estimator)"
   ]
  },
  {
   "cell_type": "code",
   "execution_count": 78,
   "metadata": {},
   "outputs": [
    {
     "name": "stderr",
     "output_type": "stream",
     "text": [
      "/Users/GenseiYoshimura/anaconda/lib/python3.6/site-packages/ipykernel_launcher.py:27: UserWarning: Implicit dimension choice for softmax has been deprecated. Change the call to include dim=X as an argument.\n",
      "/Users/GenseiYoshimura/anaconda/lib/python3.6/site-packages/ipykernel_launcher.py:49: UserWarning: invalid index of a 0-dim tensor. This will be an error in PyTorch 0.5. Use tensor.item() to convert a 0-dim tensor to a Python number\n"
     ]
    },
    {
     "name": "stdout",
     "output_type": "stream",
     "text": [
      "50 tensor(214.7204)\n",
      "100 tensor(207.6572)\n",
      "150 tensor(205.6797)\n",
      "200 tensor(205.0415)\n",
      "250 tensor(201.6186)\n",
      "300 tensor(201.2094)\n"
     ]
    },
    {
     "name": "stderr",
     "output_type": "stream",
     "text": [
      "/Users/GenseiYoshimura/anaconda/lib/python3.6/site-packages/ipykernel_launcher.py:27: UserWarning: Implicit dimension choice for softmax has been deprecated. Change the call to include dim=X as an argument.\n",
      "/Users/GenseiYoshimura/anaconda/lib/python3.6/site-packages/ipykernel_launcher.py:49: UserWarning: invalid index of a 0-dim tensor. This will be an error in PyTorch 0.5. Use tensor.item() to convert a 0-dim tensor to a Python number\n"
     ]
    },
    {
     "name": "stdout",
     "output_type": "stream",
     "text": [
      "50 tensor(210.7596)\n",
      "100 tensor(204.3947)\n",
      "150 tensor(202.8853)\n",
      "200 tensor(199.7377)\n",
      "250 tensor(198.0850)\n",
      "300 tensor(196.3199)\n"
     ]
    },
    {
     "name": "stderr",
     "output_type": "stream",
     "text": [
      "/Users/GenseiYoshimura/anaconda/lib/python3.6/site-packages/ipykernel_launcher.py:27: UserWarning: Implicit dimension choice for softmax has been deprecated. Change the call to include dim=X as an argument.\n",
      "/Users/GenseiYoshimura/anaconda/lib/python3.6/site-packages/ipykernel_launcher.py:49: UserWarning: invalid index of a 0-dim tensor. This will be an error in PyTorch 0.5. Use tensor.item() to convert a 0-dim tensor to a Python number\n"
     ]
    },
    {
     "name": "stdout",
     "output_type": "stream",
     "text": [
      "50 tensor(213.8788)\n",
      "100 tensor(208.5111)\n",
      "150 tensor(204.2100)\n",
      "200 tensor(203.3073)\n",
      "250 tensor(201.8567)\n",
      "300 tensor(201.0586)\n"
     ]
    },
    {
     "name": "stderr",
     "output_type": "stream",
     "text": [
      "/Users/GenseiYoshimura/anaconda/lib/python3.6/site-packages/ipykernel_launcher.py:27: UserWarning: Implicit dimension choice for softmax has been deprecated. Change the call to include dim=X as an argument.\n",
      "/Users/GenseiYoshimura/anaconda/lib/python3.6/site-packages/ipykernel_launcher.py:49: UserWarning: invalid index of a 0-dim tensor. This will be an error in PyTorch 0.5. Use tensor.item() to convert a 0-dim tensor to a Python number\n"
     ]
    },
    {
     "name": "stdout",
     "output_type": "stream",
     "text": [
      "50 tensor(228.5086)\n",
      "100 tensor(233.0519)\n",
      "150 tensor(227.6787)\n",
      "200 tensor(226.7003)\n",
      "250 tensor(231.2693)\n",
      "300 tensor(229.6535)\n"
     ]
    },
    {
     "name": "stderr",
     "output_type": "stream",
     "text": [
      "/Users/GenseiYoshimura/anaconda/lib/python3.6/site-packages/ipykernel_launcher.py:27: UserWarning: Implicit dimension choice for softmax has been deprecated. Change the call to include dim=X as an argument.\n",
      "/Users/GenseiYoshimura/anaconda/lib/python3.6/site-packages/ipykernel_launcher.py:49: UserWarning: invalid index of a 0-dim tensor. This will be an error in PyTorch 0.5. Use tensor.item() to convert a 0-dim tensor to a Python number\n"
     ]
    },
    {
     "name": "stdout",
     "output_type": "stream",
     "text": [
      "50 tensor(230.4341)\n",
      "100 tensor(231.1818)\n",
      "150 tensor(232.9640)\n",
      "200 tensor(231.6747)\n",
      "250 tensor(230.2160)\n",
      "300 tensor(227.3287)\n"
     ]
    },
    {
     "name": "stderr",
     "output_type": "stream",
     "text": [
      "/Users/GenseiYoshimura/anaconda/lib/python3.6/site-packages/ipykernel_launcher.py:27: UserWarning: Implicit dimension choice for softmax has been deprecated. Change the call to include dim=X as an argument.\n",
      "/Users/GenseiYoshimura/anaconda/lib/python3.6/site-packages/ipykernel_launcher.py:49: UserWarning: invalid index of a 0-dim tensor. This will be an error in PyTorch 0.5. Use tensor.item() to convert a 0-dim tensor to a Python number\n"
     ]
    },
    {
     "name": "stdout",
     "output_type": "stream",
     "text": [
      "50 tensor(230.8564)\n",
      "100 tensor(230.4863)\n",
      "150 tensor(233.3822)\n",
      "200 tensor(231.5146)\n",
      "250 tensor(228.5508)\n",
      "300 tensor(232.3887)\n"
     ]
    },
    {
     "name": "stderr",
     "output_type": "stream",
     "text": [
      "/Users/GenseiYoshimura/anaconda/lib/python3.6/site-packages/ipykernel_launcher.py:27: UserWarning: Implicit dimension choice for softmax has been deprecated. Change the call to include dim=X as an argument.\n",
      "/Users/GenseiYoshimura/anaconda/lib/python3.6/site-packages/ipykernel_launcher.py:49: UserWarning: invalid index of a 0-dim tensor. This will be an error in PyTorch 0.5. Use tensor.item() to convert a 0-dim tensor to a Python number\n"
     ]
    },
    {
     "name": "stdout",
     "output_type": "stream",
     "text": [
      "50 tensor(212.2606)\n",
      "100 tensor(204.1678)\n",
      "150 tensor(201.8092)\n",
      "200 tensor(199.2731)\n",
      "250 tensor(200.1341)\n",
      "300 tensor(199.9729)\n"
     ]
    },
    {
     "name": "stderr",
     "output_type": "stream",
     "text": [
      "/Users/GenseiYoshimura/anaconda/lib/python3.6/site-packages/ipykernel_launcher.py:27: UserWarning: Implicit dimension choice for softmax has been deprecated. Change the call to include dim=X as an argument.\n",
      "/Users/GenseiYoshimura/anaconda/lib/python3.6/site-packages/ipykernel_launcher.py:49: UserWarning: invalid index of a 0-dim tensor. This will be an error in PyTorch 0.5. Use tensor.item() to convert a 0-dim tensor to a Python number\n"
     ]
    },
    {
     "name": "stdout",
     "output_type": "stream",
     "text": [
      "50 tensor(208.8728)\n",
      "100 tensor(203.2689)\n",
      "150 tensor(201.6723)\n",
      "200 tensor(198.6338)\n",
      "250 tensor(199.8845)\n",
      "300 tensor(198.3681)\n"
     ]
    },
    {
     "name": "stderr",
     "output_type": "stream",
     "text": [
      "/Users/GenseiYoshimura/anaconda/lib/python3.6/site-packages/ipykernel_launcher.py:27: UserWarning: Implicit dimension choice for softmax has been deprecated. Change the call to include dim=X as an argument.\n",
      "/Users/GenseiYoshimura/anaconda/lib/python3.6/site-packages/ipykernel_launcher.py:49: UserWarning: invalid index of a 0-dim tensor. This will be an error in PyTorch 0.5. Use tensor.item() to convert a 0-dim tensor to a Python number\n"
     ]
    },
    {
     "name": "stdout",
     "output_type": "stream",
     "text": [
      "50 tensor(210.1789)\n",
      "100 tensor(204.5004)\n",
      "150 tensor(200.4116)\n",
      "200 tensor(198.1672)\n",
      "250 tensor(199.1358)\n",
      "300 tensor(198.2924)\n"
     ]
    },
    {
     "name": "stderr",
     "output_type": "stream",
     "text": [
      "/Users/GenseiYoshimura/anaconda/lib/python3.6/site-packages/ipykernel_launcher.py:27: UserWarning: Implicit dimension choice for softmax has been deprecated. Change the call to include dim=X as an argument.\n",
      "/Users/GenseiYoshimura/anaconda/lib/python3.6/site-packages/ipykernel_launcher.py:49: UserWarning: invalid index of a 0-dim tensor. This will be an error in PyTorch 0.5. Use tensor.item() to convert a 0-dim tensor to a Python number\n"
     ]
    },
    {
     "name": "stdout",
     "output_type": "stream",
     "text": [
      "50 tensor(231.5375)\n",
      "100 tensor(226.5365)\n",
      "150 tensor(229.4781)\n",
      "200 tensor(231.4583)\n",
      "250 tensor(226.5414)\n",
      "300 tensor(226.2895)\n"
     ]
    },
    {
     "name": "stderr",
     "output_type": "stream",
     "text": [
      "/Users/GenseiYoshimura/anaconda/lib/python3.6/site-packages/ipykernel_launcher.py:27: UserWarning: Implicit dimension choice for softmax has been deprecated. Change the call to include dim=X as an argument.\n",
      "/Users/GenseiYoshimura/anaconda/lib/python3.6/site-packages/ipykernel_launcher.py:49: UserWarning: invalid index of a 0-dim tensor. This will be an error in PyTorch 0.5. Use tensor.item() to convert a 0-dim tensor to a Python number\n"
     ]
    },
    {
     "name": "stdout",
     "output_type": "stream",
     "text": [
      "50 tensor(232.1916)\n",
      "100 tensor(228.8966)\n",
      "150 tensor(234.3944)\n",
      "200 tensor(235.0987)\n",
      "250 tensor(229.9450)\n",
      "300 tensor(228.2445)\n"
     ]
    },
    {
     "name": "stderr",
     "output_type": "stream",
     "text": [
      "/Users/GenseiYoshimura/anaconda/lib/python3.6/site-packages/ipykernel_launcher.py:27: UserWarning: Implicit dimension choice for softmax has been deprecated. Change the call to include dim=X as an argument.\n",
      "/Users/GenseiYoshimura/anaconda/lib/python3.6/site-packages/ipykernel_launcher.py:49: UserWarning: invalid index of a 0-dim tensor. This will be an error in PyTorch 0.5. Use tensor.item() to convert a 0-dim tensor to a Python number\n"
     ]
    },
    {
     "name": "stdout",
     "output_type": "stream",
     "text": [
      "50 tensor(229.3380)\n",
      "100 tensor(227.6495)\n",
      "150 tensor(230.7379)\n",
      "200 tensor(232.0704)\n",
      "250 tensor(233.3507)\n",
      "300 tensor(235.1933)\n"
     ]
    },
    {
     "name": "stderr",
     "output_type": "stream",
     "text": [
      "/Users/GenseiYoshimura/anaconda/lib/python3.6/site-packages/ipykernel_launcher.py:27: UserWarning: Implicit dimension choice for softmax has been deprecated. Change the call to include dim=X as an argument.\n",
      "/Users/GenseiYoshimura/anaconda/lib/python3.6/site-packages/ipykernel_launcher.py:49: UserWarning: invalid index of a 0-dim tensor. This will be an error in PyTorch 0.5. Use tensor.item() to convert a 0-dim tensor to a Python number\n"
     ]
    },
    {
     "name": "stdout",
     "output_type": "stream",
     "text": [
      "50 tensor(205.8096)\n",
      "100 tensor(198.9461)\n",
      "150 tensor(193.7176)\n",
      "200 tensor(191.4719)\n",
      "250 tensor(190.4464)\n",
      "300 tensor(187.7679)\n"
     ]
    },
    {
     "name": "stderr",
     "output_type": "stream",
     "text": [
      "/Users/GenseiYoshimura/anaconda/lib/python3.6/site-packages/ipykernel_launcher.py:27: UserWarning: Implicit dimension choice for softmax has been deprecated. Change the call to include dim=X as an argument.\n",
      "/Users/GenseiYoshimura/anaconda/lib/python3.6/site-packages/ipykernel_launcher.py:49: UserWarning: invalid index of a 0-dim tensor. This will be an error in PyTorch 0.5. Use tensor.item() to convert a 0-dim tensor to a Python number\n"
     ]
    },
    {
     "name": "stdout",
     "output_type": "stream",
     "text": [
      "50 tensor(204.5936)\n",
      "100 tensor(198.8827)\n",
      "150 tensor(192.1316)\n",
      "200 tensor(191.7708)\n",
      "250 tensor(187.2204)\n",
      "300 tensor(186.7061)\n"
     ]
    },
    {
     "name": "stderr",
     "output_type": "stream",
     "text": [
      "/Users/GenseiYoshimura/anaconda/lib/python3.6/site-packages/ipykernel_launcher.py:27: UserWarning: Implicit dimension choice for softmax has been deprecated. Change the call to include dim=X as an argument.\n",
      "/Users/GenseiYoshimura/anaconda/lib/python3.6/site-packages/ipykernel_launcher.py:49: UserWarning: invalid index of a 0-dim tensor. This will be an error in PyTorch 0.5. Use tensor.item() to convert a 0-dim tensor to a Python number\n"
     ]
    },
    {
     "name": "stdout",
     "output_type": "stream",
     "text": [
      "50 tensor(208.2058)\n",
      "100 tensor(202.7624)\n",
      "150 tensor(200.1342)\n",
      "200 tensor(195.1940)\n",
      "250 tensor(196.5866)\n",
      "300 tensor(192.4830)\n"
     ]
    },
    {
     "name": "stderr",
     "output_type": "stream",
     "text": [
      "/Users/GenseiYoshimura/anaconda/lib/python3.6/site-packages/ipykernel_launcher.py:27: UserWarning: Implicit dimension choice for softmax has been deprecated. Change the call to include dim=X as an argument.\n",
      "/Users/GenseiYoshimura/anaconda/lib/python3.6/site-packages/ipykernel_launcher.py:49: UserWarning: invalid index of a 0-dim tensor. This will be an error in PyTorch 0.5. Use tensor.item() to convert a 0-dim tensor to a Python number\n"
     ]
    },
    {
     "name": "stdout",
     "output_type": "stream",
     "text": [
      "50 tensor(280.8603)\n",
      "100 tensor(244.1492)\n",
      "150 tensor(245.0082)\n",
      "200 tensor(253.2157)\n",
      "250 tensor(245.3171)\n",
      "300 tensor(250.1101)\n"
     ]
    },
    {
     "name": "stderr",
     "output_type": "stream",
     "text": [
      "/Users/GenseiYoshimura/anaconda/lib/python3.6/site-packages/ipykernel_launcher.py:27: UserWarning: Implicit dimension choice for softmax has been deprecated. Change the call to include dim=X as an argument.\n",
      "/Users/GenseiYoshimura/anaconda/lib/python3.6/site-packages/ipykernel_launcher.py:49: UserWarning: invalid index of a 0-dim tensor. This will be an error in PyTorch 0.5. Use tensor.item() to convert a 0-dim tensor to a Python number\n"
     ]
    },
    {
     "name": "stdout",
     "output_type": "stream",
     "text": [
      "50 tensor(231.0909)\n",
      "100 tensor(229.7380)\n",
      "150 tensor(228.7110)\n",
      "200 tensor(230.4012)\n",
      "250 tensor(229.4269)\n",
      "300 tensor(230.5448)\n"
     ]
    },
    {
     "name": "stderr",
     "output_type": "stream",
     "text": [
      "/Users/GenseiYoshimura/anaconda/lib/python3.6/site-packages/ipykernel_launcher.py:27: UserWarning: Implicit dimension choice for softmax has been deprecated. Change the call to include dim=X as an argument.\n",
      "/Users/GenseiYoshimura/anaconda/lib/python3.6/site-packages/ipykernel_launcher.py:49: UserWarning: invalid index of a 0-dim tensor. This will be an error in PyTorch 0.5. Use tensor.item() to convert a 0-dim tensor to a Python number\n"
     ]
    },
    {
     "name": "stdout",
     "output_type": "stream",
     "text": [
      "50 tensor(238.3144)\n",
      "100 tensor(229.9802)\n",
      "150 tensor(236.1840)\n",
      "200 tensor(231.3784)\n",
      "250 tensor(228.3245)\n",
      "300 tensor(229.6743)\n"
     ]
    },
    {
     "name": "stderr",
     "output_type": "stream",
     "text": [
      "/Users/GenseiYoshimura/anaconda/lib/python3.6/site-packages/ipykernel_launcher.py:27: UserWarning: Implicit dimension choice for softmax has been deprecated. Change the call to include dim=X as an argument.\n",
      "/Users/GenseiYoshimura/anaconda/lib/python3.6/site-packages/ipykernel_launcher.py:49: UserWarning: invalid index of a 0-dim tensor. This will be an error in PyTorch 0.5. Use tensor.item() to convert a 0-dim tensor to a Python number\n"
     ]
    },
    {
     "name": "stdout",
     "output_type": "stream",
     "text": [
      "50 tensor(208.3472)\n",
      "100 tensor(197.1072)\n",
      "150 tensor(200.0561)\n",
      "200 tensor(193.3410)\n",
      "250 tensor(192.0423)\n",
      "300 tensor(188.2139)\n"
     ]
    },
    {
     "name": "stderr",
     "output_type": "stream",
     "text": [
      "/Users/GenseiYoshimura/anaconda/lib/python3.6/site-packages/ipykernel_launcher.py:27: UserWarning: Implicit dimension choice for softmax has been deprecated. Change the call to include dim=X as an argument.\n",
      "/Users/GenseiYoshimura/anaconda/lib/python3.6/site-packages/ipykernel_launcher.py:49: UserWarning: invalid index of a 0-dim tensor. This will be an error in PyTorch 0.5. Use tensor.item() to convert a 0-dim tensor to a Python number\n"
     ]
    },
    {
     "name": "stdout",
     "output_type": "stream",
     "text": [
      "50 tensor(207.6814)\n",
      "100 tensor(201.6565)\n",
      "150 tensor(198.8749)\n",
      "200 tensor(201.6703)\n",
      "250 tensor(196.8871)\n",
      "300 tensor(197.3461)\n"
     ]
    },
    {
     "name": "stderr",
     "output_type": "stream",
     "text": [
      "/Users/GenseiYoshimura/anaconda/lib/python3.6/site-packages/ipykernel_launcher.py:27: UserWarning: Implicit dimension choice for softmax has been deprecated. Change the call to include dim=X as an argument.\n",
      "/Users/GenseiYoshimura/anaconda/lib/python3.6/site-packages/ipykernel_launcher.py:49: UserWarning: invalid index of a 0-dim tensor. This will be an error in PyTorch 0.5. Use tensor.item() to convert a 0-dim tensor to a Python number\n"
     ]
    },
    {
     "name": "stdout",
     "output_type": "stream",
     "text": [
      "50 tensor(210.2308)\n",
      "100 tensor(202.4248)\n",
      "150 tensor(198.4446)\n",
      "200 tensor(196.7221)\n",
      "250 tensor(198.2836)\n",
      "300 tensor(197.0681)\n"
     ]
    },
    {
     "name": "stderr",
     "output_type": "stream",
     "text": [
      "/Users/GenseiYoshimura/anaconda/lib/python3.6/site-packages/ipykernel_launcher.py:27: UserWarning: Implicit dimension choice for softmax has been deprecated. Change the call to include dim=X as an argument.\n",
      "/Users/GenseiYoshimura/anaconda/lib/python3.6/site-packages/ipykernel_launcher.py:49: UserWarning: invalid index of a 0-dim tensor. This will be an error in PyTorch 0.5. Use tensor.item() to convert a 0-dim tensor to a Python number\n"
     ]
    },
    {
     "name": "stdout",
     "output_type": "stream",
     "text": [
      "50 tensor(250.4229)\n",
      "100 tensor(249.6544)\n",
      "150 tensor(264.2796)\n",
      "200 tensor(249.1526)\n",
      "250 tensor(248.4046)\n",
      "300 tensor(248.3296)\n"
     ]
    },
    {
     "name": "stderr",
     "output_type": "stream",
     "text": [
      "/Users/GenseiYoshimura/anaconda/lib/python3.6/site-packages/ipykernel_launcher.py:27: UserWarning: Implicit dimension choice for softmax has been deprecated. Change the call to include dim=X as an argument.\n",
      "/Users/GenseiYoshimura/anaconda/lib/python3.6/site-packages/ipykernel_launcher.py:49: UserWarning: invalid index of a 0-dim tensor. This will be an error in PyTorch 0.5. Use tensor.item() to convert a 0-dim tensor to a Python number\n"
     ]
    },
    {
     "name": "stdout",
     "output_type": "stream",
     "text": [
      "50 tensor(239.5768)\n",
      "100 tensor(236.3243)\n",
      "150 tensor(238.9701)\n",
      "200 tensor(228.9630)\n",
      "250 tensor(228.4881)\n",
      "300 tensor(232.0840)\n"
     ]
    },
    {
     "name": "stderr",
     "output_type": "stream",
     "text": [
      "/Users/GenseiYoshimura/anaconda/lib/python3.6/site-packages/ipykernel_launcher.py:27: UserWarning: Implicit dimension choice for softmax has been deprecated. Change the call to include dim=X as an argument.\n",
      "/Users/GenseiYoshimura/anaconda/lib/python3.6/site-packages/ipykernel_launcher.py:49: UserWarning: invalid index of a 0-dim tensor. This will be an error in PyTorch 0.5. Use tensor.item() to convert a 0-dim tensor to a Python number\n"
     ]
    },
    {
     "name": "stdout",
     "output_type": "stream",
     "text": [
      "50 tensor(242.7798)\n",
      "100 tensor(243.6463)\n",
      "150 tensor(243.0724)\n",
      "200 tensor(241.6046)\n",
      "250 tensor(241.5630)\n",
      "300 tensor(241.5630)\n"
     ]
    },
    {
     "name": "stderr",
     "output_type": "stream",
     "text": [
      "/Users/GenseiYoshimura/anaconda/lib/python3.6/site-packages/ipykernel_launcher.py:27: UserWarning: Implicit dimension choice for softmax has been deprecated. Change the call to include dim=X as an argument.\n",
      "/Users/GenseiYoshimura/anaconda/lib/python3.6/site-packages/ipykernel_launcher.py:49: UserWarning: invalid index of a 0-dim tensor. This will be an error in PyTorch 0.5. Use tensor.item() to convert a 0-dim tensor to a Python number\n"
     ]
    },
    {
     "name": "stdout",
     "output_type": "stream",
     "text": [
      "50 tensor(317.5160)\n",
      "100 tensor(310.3251)\n",
      "150 tensor(305.5786)\n",
      "200 tensor(304.0794)\n",
      "250 tensor(300.2977)\n",
      "300 tensor(297.9107)\n"
     ]
    },
    {
     "data": {
      "text/plain": [
       "GridSearchCV(cv=3, error_score='raise',\n",
       "       estimator=Pipeline(memory=None,\n",
       "     steps=[('scaler', StandardScaler(copy=True, with_mean=True, with_std=True)), ('clf', skNN(hidden_layer=30, lr=0.1))]),\n",
       "       fit_params=None, iid=True, n_jobs=1,\n",
       "       param_grid={'clf__hidden_layer': [30, 40, 50, 60], 'clf__lr': [0.01, 0.05]},\n",
       "       pre_dispatch='2*n_jobs', refit=True, return_train_score='warn',\n",
       "       scoring=None, verbose=0)"
      ]
     },
     "execution_count": 78,
     "metadata": {},
     "output_type": "execute_result"
    }
   ],
   "source": [
    "nn_params = {\n",
    "        'clf__hidden_layer': [30,40,50,60],\n",
    "        'clf__lr': [0.01,0.05],\n",
    "    }\n",
    "grid_search = GridSearchCV(pipe,param_grid=nn_params,cv=3)\n",
    "grid_search.fit(train_data_feature,train_data_target)"
   ]
  },
  {
   "cell_type": "code",
   "execution_count": 79,
   "metadata": {},
   "outputs": [
    {
     "data": {
      "text/plain": [
       "{'clf__hidden_layer': 60, 'clf__lr': 0.01}"
      ]
     },
     "execution_count": 79,
     "metadata": {},
     "output_type": "execute_result"
    }
   ],
   "source": [
    "grid_search.best_params_"
   ]
  },
  {
   "cell_type": "code",
   "execution_count": 80,
   "metadata": {},
   "outputs": [
    {
     "name": "stderr",
     "output_type": "stream",
     "text": [
      "/Users/GenseiYoshimura/anaconda/lib/python3.6/site-packages/ipykernel_launcher.py:27: UserWarning: Implicit dimension choice for softmax has been deprecated. Change the call to include dim=X as an argument.\n"
     ]
    },
    {
     "data": {
      "text/plain": [
       "0.72422222222222221"
      ]
     },
     "execution_count": 80,
     "metadata": {},
     "output_type": "execute_result"
    }
   ],
   "source": [
    "nn_predicted = grid_search.predict(test_data_feature)\n",
    "sum(nn_predicted == test_data_target) / len(test_data_target)"
   ]
  },
  {
   "cell_type": "code",
   "execution_count": 81,
   "metadata": {},
   "outputs": [
    {
     "name": "stdout",
     "output_type": "stream",
     "text": [
      "0.538661710037\n"
     ]
    },
    {
     "data": {
      "text/plain": [
       "array([[5069, 1957],\n",
       "       [ 525, 1449]])"
      ]
     },
     "execution_count": 81,
     "metadata": {},
     "output_type": "execute_result"
    }
   ],
   "source": [
    "from sklearn.metrics import confusion_matrix\n",
    "from sklearn.metrics import f1_score\n",
    "\n",
    "print(f1_score(test_data_target,nn_predicted))\n",
    "confusion_matrix(test_data_target, nn_predicted)"
   ]
  },
  {
   "cell_type": "code",
   "execution_count": null,
   "metadata": {
    "collapsed": true
   },
   "outputs": [],
   "source": []
  }
 ],
 "metadata": {
  "kernelspec": {
   "display_name": "Python 3",
   "language": "python",
   "name": "python3"
  },
  "language_info": {
   "codemirror_mode": {
    "name": "ipython",
    "version": 3
   },
   "file_extension": ".py",
   "mimetype": "text/x-python",
   "name": "python",
   "nbconvert_exporter": "python",
   "pygments_lexer": "ipython3",
   "version": "3.6.1"
  }
 },
 "nbformat": 4,
 "nbformat_minor": 2
}
